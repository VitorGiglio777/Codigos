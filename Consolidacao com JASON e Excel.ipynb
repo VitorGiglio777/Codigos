{
 "cells": [
  {
   "cell_type": "code",
   "execution_count": 34,
   "id": "d4a78007",
   "metadata": {},
   "outputs": [
    {
     "name": "stderr",
     "output_type": "stream",
     "text": [
      "C:\\Users\\VitorGiglio\\AppData\\Local\\Temp\\ipykernel_18072\\903373173.py:39: FutureWarning: The behavior of DataFrame concatenation with empty or all-NA entries is deprecated. In a future version, this will no longer exclude empty or all-NA columns when determining the result dtypes. To retain the old behavior, exclude the relevant entries before the concat operation.\n",
      "  df_licitacoes = pd.concat(dfs, ignore_index=True)\n"
     ]
    },
    {
     "data": {
      "text/html": [
       "<div>\n",
       "<style scoped>\n",
       "    .dataframe tbody tr th:only-of-type {\n",
       "        vertical-align: middle;\n",
       "    }\n",
       "\n",
       "    .dataframe tbody tr th {\n",
       "        vertical-align: top;\n",
       "    }\n",
       "\n",
       "    .dataframe thead th {\n",
       "        text-align: right;\n",
       "    }\n",
       "</style>\n",
       "<table border=\"1\" class=\"dataframe\">\n",
       "  <thead>\n",
       "    <tr style=\"text-align: right;\">\n",
       "      <th></th>\n",
       "      <th>idCompra</th>\n",
       "      <th>numeroControlePNCP</th>\n",
       "      <th>anoCompraPncp</th>\n",
       "      <th>sequencialCompraPncp</th>\n",
       "      <th>orgaoEntidadeCnpj</th>\n",
       "      <th>orgaoSubrogadoCnpj</th>\n",
       "      <th>codigoOrgao</th>\n",
       "      <th>orgaoEntidadeRazaoSocial</th>\n",
       "      <th>orgaoSubrogadoRazaoSocial</th>\n",
       "      <th>orgaoEntidadeEsferaId</th>\n",
       "      <th>...</th>\n",
       "      <th>tipoInstrumentoConvocatorioNome</th>\n",
       "      <th>modoDisputaNomePncp</th>\n",
       "      <th>valorTotalEstimado</th>\n",
       "      <th>valorTotalHomologado</th>\n",
       "      <th>dataInclusaoPncp</th>\n",
       "      <th>dataAtualizacaoPncp</th>\n",
       "      <th>dataPublicacaoPncp</th>\n",
       "      <th>dataAberturaPropostaPncp</th>\n",
       "      <th>dataEncerramentoPropostaPncp</th>\n",
       "      <th>contratacaoExcluida</th>\n",
       "    </tr>\n",
       "  </thead>\n",
       "  <tbody>\n",
       "    <tr>\n",
       "      <th>0</th>\n",
       "      <td>98014705900252025</td>\n",
       "      <td>01674973000179-1-000039/2025</td>\n",
       "      <td>2025</td>\n",
       "      <td>39</td>\n",
       "      <td>01674973000179</td>\n",
       "      <td>None</td>\n",
       "      <td>49380</td>\n",
       "      <td>PREFEITURA MUNICIPAL DE TARAUACA - ACRE</td>\n",
       "      <td>None</td>\n",
       "      <td>M</td>\n",
       "      <td>...</td>\n",
       "      <td>Edital</td>\n",
       "      <td>Aberto</td>\n",
       "      <td>0.00</td>\n",
       "      <td>NaN</td>\n",
       "      <td>2025-08-22T07:18:47</td>\n",
       "      <td>2025-08-22T07:18:47</td>\n",
       "      <td>2025-08-22T07:18:47</td>\n",
       "      <td>2025-08-22T08:00:00</td>\n",
       "      <td>2025-09-09T10:30:00</td>\n",
       "      <td>False</td>\n",
       "    </tr>\n",
       "    <tr>\n",
       "      <th>1</th>\n",
       "      <td>98014705900312025</td>\n",
       "      <td>01674973000179-1-000040/2025</td>\n",
       "      <td>2025</td>\n",
       "      <td>40</td>\n",
       "      <td>01674973000179</td>\n",
       "      <td>None</td>\n",
       "      <td>49380</td>\n",
       "      <td>PREFEITURA MUNICIPAL DE TARAUACA - ACRE</td>\n",
       "      <td>None</td>\n",
       "      <td>M</td>\n",
       "      <td>...</td>\n",
       "      <td>Edital</td>\n",
       "      <td>Aberto</td>\n",
       "      <td>0.00</td>\n",
       "      <td>NaN</td>\n",
       "      <td>2025-08-22T07:19:06</td>\n",
       "      <td>2025-08-22T07:19:06</td>\n",
       "      <td>2025-08-22T07:19:06</td>\n",
       "      <td>2025-08-22T08:00:00</td>\n",
       "      <td>2025-09-10T10:30:00</td>\n",
       "      <td>False</td>\n",
       "    </tr>\n",
       "    <tr>\n",
       "      <th>2</th>\n",
       "      <td>92682105901072025</td>\n",
       "      <td>13927801000300-1-000124/2025</td>\n",
       "      <td>2025</td>\n",
       "      <td>124</td>\n",
       "      <td>13927801000300</td>\n",
       "      <td>None</td>\n",
       "      <td>65662</td>\n",
       "      <td>MUNICIPIO DE SALVADOR</td>\n",
       "      <td>None</td>\n",
       "      <td>M</td>\n",
       "      <td>...</td>\n",
       "      <td>Edital</td>\n",
       "      <td>Aberto</td>\n",
       "      <td>28822337.54</td>\n",
       "      <td>NaN</td>\n",
       "      <td>2025-08-22T07:17:28</td>\n",
       "      <td>2025-08-22T07:17:28</td>\n",
       "      <td>2025-08-22T07:17:28</td>\n",
       "      <td>2025-08-22T08:00:00</td>\n",
       "      <td>2025-09-12T09:00:00</td>\n",
       "      <td>False</td>\n",
       "    </tr>\n",
       "    <tr>\n",
       "      <th>3</th>\n",
       "      <td>98672705900992025</td>\n",
       "      <td>51816247000111-1-000537/2025</td>\n",
       "      <td>2025</td>\n",
       "      <td>537</td>\n",
       "      <td>51816247000111</td>\n",
       "      <td>None</td>\n",
       "      <td>83846</td>\n",
       "      <td>MUNICIPIO DE MONTE ALTO</td>\n",
       "      <td>None</td>\n",
       "      <td>M</td>\n",
       "      <td>...</td>\n",
       "      <td>Edital</td>\n",
       "      <td>Aberto-Fechado</td>\n",
       "      <td>0.00</td>\n",
       "      <td>NaN</td>\n",
       "      <td>2025-08-22T07:34:00</td>\n",
       "      <td>2025-08-22T07:34:00</td>\n",
       "      <td>2025-08-22T07:34:00</td>\n",
       "      <td>2025-08-22T08:00:00</td>\n",
       "      <td>2025-09-11T09:00:00</td>\n",
       "      <td>False</td>\n",
       "    </tr>\n",
       "    <tr>\n",
       "      <th>4</th>\n",
       "      <td>98672705901032025</td>\n",
       "      <td>51816247000111-1-000543/2025</td>\n",
       "      <td>2025</td>\n",
       "      <td>543</td>\n",
       "      <td>51816247000111</td>\n",
       "      <td>None</td>\n",
       "      <td>83846</td>\n",
       "      <td>MUNICIPIO DE MONTE ALTO</td>\n",
       "      <td>None</td>\n",
       "      <td>M</td>\n",
       "      <td>...</td>\n",
       "      <td>Edital</td>\n",
       "      <td>Aberto-Fechado</td>\n",
       "      <td>0.00</td>\n",
       "      <td>NaN</td>\n",
       "      <td>2025-08-22T07:34:40</td>\n",
       "      <td>2025-08-22T07:34:40</td>\n",
       "      <td>2025-08-22T07:34:40</td>\n",
       "      <td>2025-08-22T08:00:00</td>\n",
       "      <td>2025-09-04T09:00:00</td>\n",
       "      <td>False</td>\n",
       "    </tr>\n",
       "  </tbody>\n",
       "</table>\n",
       "<p>5 rows × 52 columns</p>\n",
       "</div>"
      ],
      "text/plain": [
       "            idCompra            numeroControlePNCP  anoCompraPncp  \\\n",
       "0  98014705900252025  01674973000179-1-000039/2025           2025   \n",
       "1  98014705900312025  01674973000179-1-000040/2025           2025   \n",
       "2  92682105901072025  13927801000300-1-000124/2025           2025   \n",
       "3  98672705900992025  51816247000111-1-000537/2025           2025   \n",
       "4  98672705901032025  51816247000111-1-000543/2025           2025   \n",
       "\n",
       "   sequencialCompraPncp orgaoEntidadeCnpj orgaoSubrogadoCnpj  codigoOrgao  \\\n",
       "0                    39    01674973000179               None        49380   \n",
       "1                    40    01674973000179               None        49380   \n",
       "2                   124    13927801000300               None        65662   \n",
       "3                   537    51816247000111               None        83846   \n",
       "4                   543    51816247000111               None        83846   \n",
       "\n",
       "                  orgaoEntidadeRazaoSocial orgaoSubrogadoRazaoSocial  \\\n",
       "0  PREFEITURA MUNICIPAL DE TARAUACA - ACRE                      None   \n",
       "1  PREFEITURA MUNICIPAL DE TARAUACA - ACRE                      None   \n",
       "2                    MUNICIPIO DE SALVADOR                      None   \n",
       "3                  MUNICIPIO DE MONTE ALTO                      None   \n",
       "4                  MUNICIPIO DE MONTE ALTO                      None   \n",
       "\n",
       "  orgaoEntidadeEsferaId  ... tipoInstrumentoConvocatorioNome  \\\n",
       "0                     M  ...                          Edital   \n",
       "1                     M  ...                          Edital   \n",
       "2                     M  ...                          Edital   \n",
       "3                     M  ...                          Edital   \n",
       "4                     M  ...                          Edital   \n",
       "\n",
       "  modoDisputaNomePncp valorTotalEstimado valorTotalHomologado  \\\n",
       "0              Aberto               0.00                  NaN   \n",
       "1              Aberto               0.00                  NaN   \n",
       "2              Aberto        28822337.54                  NaN   \n",
       "3      Aberto-Fechado               0.00                  NaN   \n",
       "4      Aberto-Fechado               0.00                  NaN   \n",
       "\n",
       "      dataInclusaoPncp  dataAtualizacaoPncp   dataPublicacaoPncp  \\\n",
       "0  2025-08-22T07:18:47  2025-08-22T07:18:47  2025-08-22T07:18:47   \n",
       "1  2025-08-22T07:19:06  2025-08-22T07:19:06  2025-08-22T07:19:06   \n",
       "2  2025-08-22T07:17:28  2025-08-22T07:17:28  2025-08-22T07:17:28   \n",
       "3  2025-08-22T07:34:00  2025-08-22T07:34:00  2025-08-22T07:34:00   \n",
       "4  2025-08-22T07:34:40  2025-08-22T07:34:40  2025-08-22T07:34:40   \n",
       "\n",
       "  dataAberturaPropostaPncp dataEncerramentoPropostaPncp contratacaoExcluida  \n",
       "0      2025-08-22T08:00:00          2025-09-09T10:30:00               False  \n",
       "1      2025-08-22T08:00:00          2025-09-10T10:30:00               False  \n",
       "2      2025-08-22T08:00:00          2025-09-12T09:00:00               False  \n",
       "3      2025-08-22T08:00:00          2025-09-11T09:00:00               False  \n",
       "4      2025-08-22T08:00:00          2025-09-04T09:00:00               False  \n",
       "\n",
       "[5 rows x 52 columns]"
      ]
     },
     "metadata": {},
     "output_type": "display_data"
    },
    {
     "name": "stdout",
     "output_type": "stream",
     "text": [
      "\n",
      "📂 Arquivo: pncp_contratacoes_2025-08-22_a_2025-08-22_mod5.json\n",
      "🔑 Chaves (52): ['idCompra', 'numeroControlePNCP', 'anoCompraPncp', 'sequencialCompraPncp', 'orgaoEntidadeCnpj', 'orgaoSubrogadoCnpj', 'codigoOrgao', 'orgaoEntidadeRazaoSocial', 'orgaoSubrogadoRazaoSocial', 'orgaoEntidadeEsferaId', 'orgaoSubrogadoEsferaId', 'orgaoEntidadePoderId', 'orgaoSubrogadoPoderId', 'unidadeOrgaoCodigoUnidade', 'unidadeSubrogadaCodigoUnidade', 'unidadeOrgaoNomeUnidade', 'unidadeSubrogadaNomeUnidade', 'unidadeOrgaoUfSigla', 'unidadeSubrogadaUfSigla', 'unidadeOrgaoMunicipioNome', 'unidade_subrogada_municipio_nome', 'unidadeOrgaoCodigoIbge', 'unidadeSubrogadaCodigoIbge', 'numeroCompra', 'modalidadeIdPncp', 'codigoModalidade', 'modalidadeNome', 'srp', 'modoDisputaIdPncp', 'codigoModoDisputa', 'amparoLegalCodigoPncp', 'amparoLegalNome', 'amparoLegalDescricao', 'informacaoComplementar', 'processo', 'objetoCompra', 'existeResultado', 'orcamentoSigilosoCodigo', 'orcamentoSigilosoDescricao', 'situacaoCompraIdPncp', 'situacaoCompraNomePncp', 'tipoInstrumentoConvocatorioCodigoPncp', 'tipoInstrumentoConvocatorioNome', 'modoDisputaNomePncp', 'valorTotalEstimado', 'valorTotalHomologado', 'dataInclusaoPncp', 'dataAtualizacaoPncp', 'dataPublicacaoPncp', 'dataAberturaPropostaPncp', 'dataEncerramentoPropostaPncp', 'contratacaoExcluida']\n",
      "\n",
      "📂 Arquivo: pncp_contratacoes_2025-08-22_a_2025-08-22_mod6.json\n",
      "🔑 Chaves (52): ['idCompra', 'numeroControlePNCP', 'anoCompraPncp', 'sequencialCompraPncp', 'orgaoEntidadeCnpj', 'orgaoSubrogadoCnpj', 'codigoOrgao', 'orgaoEntidadeRazaoSocial', 'orgaoSubrogadoRazaoSocial', 'orgaoEntidadeEsferaId', 'orgaoSubrogadoEsferaId', 'orgaoEntidadePoderId', 'orgaoSubrogadoPoderId', 'unidadeOrgaoCodigoUnidade', 'unidadeSubrogadaCodigoUnidade', 'unidadeOrgaoNomeUnidade', 'unidadeSubrogadaNomeUnidade', 'unidadeOrgaoUfSigla', 'unidadeSubrogadaUfSigla', 'unidadeOrgaoMunicipioNome', 'unidade_subrogada_municipio_nome', 'unidadeOrgaoCodigoIbge', 'unidadeSubrogadaCodigoIbge', 'numeroCompra', 'modalidadeIdPncp', 'codigoModalidade', 'modalidadeNome', 'srp', 'modoDisputaIdPncp', 'codigoModoDisputa', 'amparoLegalCodigoPncp', 'amparoLegalNome', 'amparoLegalDescricao', 'informacaoComplementar', 'processo', 'objetoCompra', 'existeResultado', 'orcamentoSigilosoCodigo', 'orcamentoSigilosoDescricao', 'situacaoCompraIdPncp', 'situacaoCompraNomePncp', 'tipoInstrumentoConvocatorioCodigoPncp', 'tipoInstrumentoConvocatorioNome', 'modoDisputaNomePncp', 'valorTotalEstimado', 'valorTotalHomologado', 'dataInclusaoPncp', 'dataAtualizacaoPncp', 'dataPublicacaoPncp', 'dataAberturaPropostaPncp', 'dataEncerramentoPropostaPncp', 'contratacaoExcluida']\n",
      "\n",
      "=== Informações do DataFrame Final ===\n",
      "📊 Total de linhas: 1080\n",
      "📊 Total de colunas: 52\n",
      "\n",
      "🔎 Tipos de dados por coluna:\n",
      "idCompra                                  object\n",
      "numeroControlePNCP                        object\n",
      "anoCompraPncp                              int64\n",
      "sequencialCompraPncp                       int64\n",
      "orgaoEntidadeCnpj                         object\n",
      "orgaoSubrogadoCnpj                        object\n",
      "codigoOrgao                                int64\n",
      "orgaoEntidadeRazaoSocial                  object\n",
      "orgaoSubrogadoRazaoSocial                 object\n",
      "orgaoEntidadeEsferaId                     object\n",
      "orgaoSubrogadoEsferaId                    object\n",
      "orgaoEntidadePoderId                      object\n",
      "orgaoSubrogadoPoderId                     object\n",
      "unidadeOrgaoCodigoUnidade                 object\n",
      "unidadeSubrogadaCodigoUnidade             object\n",
      "unidadeOrgaoNomeUnidade                   object\n",
      "unidadeSubrogadaNomeUnidade               object\n",
      "unidadeOrgaoUfSigla                       object\n",
      "unidadeSubrogadaUfSigla                   object\n",
      "unidadeOrgaoMunicipioNome                 object\n",
      "unidade_subrogada_municipio_nome          object\n",
      "unidadeOrgaoCodigoIbge                     int64\n",
      "unidadeSubrogadaCodigoIbge               float64\n",
      "numeroCompra                              object\n",
      "modalidadeIdPncp                           int64\n",
      "codigoModalidade                           int64\n",
      "modalidadeNome                            object\n",
      "srp                                         bool\n",
      "modoDisputaIdPncp                          int64\n",
      "codigoModoDisputa                          int64\n",
      "amparoLegalCodigoPncp                      int64\n",
      "amparoLegalNome                           object\n",
      "amparoLegalDescricao                      object\n",
      "informacaoComplementar                    object\n",
      "processo                                  object\n",
      "objetoCompra                              object\n",
      "existeResultado                             bool\n",
      "orcamentoSigilosoCodigo                    int64\n",
      "orcamentoSigilosoDescricao                object\n",
      "situacaoCompraIdPncp                       int64\n",
      "situacaoCompraNomePncp                    object\n",
      "tipoInstrumentoConvocatorioCodigoPncp      int64\n",
      "tipoInstrumentoConvocatorioNome           object\n",
      "modoDisputaNomePncp                       object\n",
      "valorTotalEstimado                       float64\n",
      "valorTotalHomologado                     float64\n",
      "dataInclusaoPncp                          object\n",
      "dataAtualizacaoPncp                       object\n",
      "dataPublicacaoPncp                        object\n",
      "dataAberturaPropostaPncp                  object\n",
      "dataEncerramentoPropostaPncp              object\n",
      "contratacaoExcluida                         bool\n",
      "dtype: object\n",
      "\n",
      "📋 Resumo geral (inclui nulos e memória):\n",
      "<class 'pandas.core.frame.DataFrame'>\n",
      "RangeIndex: 1080 entries, 0 to 1079\n",
      "Data columns (total 52 columns):\n",
      " #   Column                                 Non-Null Count  Dtype  \n",
      "---  ------                                 --------------  -----  \n",
      " 0   idCompra                               1080 non-null   object \n",
      " 1   numeroControlePNCP                     1080 non-null   object \n",
      " 2   anoCompraPncp                          1080 non-null   int64  \n",
      " 3   sequencialCompraPncp                   1080 non-null   int64  \n",
      " 4   orgaoEntidadeCnpj                      1080 non-null   object \n",
      " 5   orgaoSubrogadoCnpj                     2 non-null      object \n",
      " 6   codigoOrgao                            1080 non-null   int64  \n",
      " 7   orgaoEntidadeRazaoSocial               1080 non-null   object \n",
      " 8   orgaoSubrogadoRazaoSocial              2 non-null      object \n",
      " 9   orgaoEntidadeEsferaId                  1080 non-null   object \n",
      " 10  orgaoSubrogadoEsferaId                 2 non-null      object \n",
      " 11  orgaoEntidadePoderId                   1080 non-null   object \n",
      " 12  orgaoSubrogadoPoderId                  2 non-null      object \n",
      " 13  unidadeOrgaoCodigoUnidade              1080 non-null   object \n",
      " 14  unidadeSubrogadaCodigoUnidade          2 non-null      object \n",
      " 15  unidadeOrgaoNomeUnidade                1080 non-null   object \n",
      " 16  unidadeSubrogadaNomeUnidade            2 non-null      object \n",
      " 17  unidadeOrgaoUfSigla                    1080 non-null   object \n",
      " 18  unidadeSubrogadaUfSigla                2 non-null      object \n",
      " 19  unidadeOrgaoMunicipioNome              1080 non-null   object \n",
      " 20  unidade_subrogada_municipio_nome       2 non-null      object \n",
      " 21  unidadeOrgaoCodigoIbge                 1080 non-null   int64  \n",
      " 22  unidadeSubrogadaCodigoIbge             2 non-null      float64\n",
      " 23  numeroCompra                           1080 non-null   object \n",
      " 24  modalidadeIdPncp                       1080 non-null   int64  \n",
      " 25  codigoModalidade                       1080 non-null   int64  \n",
      " 26  modalidadeNome                         1080 non-null   object \n",
      " 27  srp                                    1080 non-null   bool   \n",
      " 28  modoDisputaIdPncp                      1080 non-null   int64  \n",
      " 29  codigoModoDisputa                      1080 non-null   int64  \n",
      " 30  amparoLegalCodigoPncp                  1080 non-null   int64  \n",
      " 31  amparoLegalNome                        1080 non-null   object \n",
      " 32  amparoLegalDescricao                   1080 non-null   object \n",
      " 33  informacaoComplementar                 898 non-null    object \n",
      " 34  processo                               1080 non-null   object \n",
      " 35  objetoCompra                           1080 non-null   object \n",
      " 36  existeResultado                        1080 non-null   bool   \n",
      " 37  orcamentoSigilosoCodigo                1080 non-null   int64  \n",
      " 38  orcamentoSigilosoDescricao             1080 non-null   object \n",
      " 39  situacaoCompraIdPncp                   1080 non-null   int64  \n",
      " 40  situacaoCompraNomePncp                 1080 non-null   object \n",
      " 41  tipoInstrumentoConvocatorioCodigoPncp  1080 non-null   int64  \n",
      " 42  tipoInstrumentoConvocatorioNome        1080 non-null   object \n",
      " 43  modoDisputaNomePncp                    1080 non-null   object \n",
      " 44  valorTotalEstimado                     1080 non-null   float64\n",
      " 45  valorTotalHomologado                   237 non-null    float64\n",
      " 46  dataInclusaoPncp                       1080 non-null   object \n",
      " 47  dataAtualizacaoPncp                    1080 non-null   object \n",
      " 48  dataPublicacaoPncp                     1080 non-null   object \n",
      " 49  dataAberturaPropostaPncp               843 non-null    object \n",
      " 50  dataEncerramentoPropostaPncp           843 non-null    object \n",
      " 51  contratacaoExcluida                    1080 non-null   bool   \n",
      "dtypes: bool(3), float64(3), int64(12), object(34)\n",
      "memory usage: 416.7+ KB\n",
      "None\n"
     ]
    }
   ],
   "source": [
    "import os\n",
    "import json\n",
    "import pandas as pd\n",
    "\n",
    "# Caminho da pasta\n",
    "pasta = r\"C:\\Users\\VitorGiglio\\Downloads\\VG\\Python\\Dados\\Licitações\"\n",
    "\n",
    "# Listar todos os arquivos .json da pasta\n",
    "arquivos = [f for f in os.listdir(pasta) if f.endswith(\".json\")]\n",
    "\n",
    "dfs = []\n",
    "resultado = {}\n",
    "\n",
    "for arquivo in arquivos:\n",
    "    caminho = os.path.join(pasta, arquivo)\n",
    "    try:\n",
    "        with open(caminho, \"r\", encoding=\"utf-8\") as f:\n",
    "            data = json.load(f)\n",
    "\n",
    "        if isinstance(data, dict):\n",
    "            for v in data.values():\n",
    "                if isinstance(v, list):\n",
    "                    df = pd.DataFrame(v)\n",
    "                    break\n",
    "            else:\n",
    "                df = pd.DataFrame([data])\n",
    "        elif isinstance(data, list):\n",
    "            df = pd.DataFrame(data)\n",
    "        else:\n",
    "            continue\n",
    "\n",
    "        resultado[arquivo] = list(df.columns)\n",
    "        dfs.append(df)\n",
    "\n",
    "    except Exception as e:\n",
    "        print(f\"Erro em {arquivo}: {e}\")\n",
    "\n",
    "# Concatenar tudo em um único DataFrame\n",
    "df_licitacoes = pd.concat(dfs, ignore_index=True)\n",
    "\n",
    "# Mostrar as primeiras linhas\n",
    "display(df_licitacoes.head())\n",
    "\n",
    "# Mostrar as chaves identificadas em cada arquivo\n",
    "for arq, chaves in resultado.items():\n",
    "    print(f\"\\n📂 Arquivo: {arq}\")\n",
    "    print(f\"🔑 Chaves ({len(chaves)}): {chaves}\")\n",
    "\n",
    "# -------------------------------\n",
    "# 🔍 Informações do DataFrame final\n",
    "print(\"\\n=== Informações do DataFrame Final ===\")\n",
    "print(f\"📊 Total de linhas: {df_licitacoes.shape[0]}\")\n",
    "print(f\"📊 Total de colunas: {df_licitacoes.shape[1]}\")\n",
    "\n",
    "print(\"\\n🔎 Tipos de dados por coluna:\")\n",
    "print(df_licitacoes.dtypes)\n",
    "\n",
    "print(\"\\n📋 Resumo geral (inclui nulos e memória):\")\n",
    "print(df_licitacoes.info())\n",
    "\n",
    "\n"
   ]
  },
  {
   "cell_type": "code",
   "execution_count": 35,
   "id": "891d93ce",
   "metadata": {},
   "outputs": [
    {
     "data": {
      "text/html": [
       "<div>\n",
       "<style scoped>\n",
       "    .dataframe tbody tr th:only-of-type {\n",
       "        vertical-align: middle;\n",
       "    }\n",
       "\n",
       "    .dataframe tbody tr th {\n",
       "        vertical-align: top;\n",
       "    }\n",
       "\n",
       "    .dataframe thead th {\n",
       "        text-align: right;\n",
       "    }\n",
       "</style>\n",
       "<table border=\"1\" class=\"dataframe\">\n",
       "  <thead>\n",
       "    <tr style=\"text-align: right;\">\n",
       "      <th></th>\n",
       "      <th>idCompra</th>\n",
       "      <th>idCompraItem</th>\n",
       "      <th>idContratacaoPNCP</th>\n",
       "      <th>unidadeOrgaoCodigoUnidade</th>\n",
       "      <th>orgaoEntidadeCnpj</th>\n",
       "      <th>numeroItemPncp</th>\n",
       "      <th>numeroItemCompra</th>\n",
       "      <th>numeroGrupo</th>\n",
       "      <th>descricaoResumida</th>\n",
       "      <th>materialOuServico</th>\n",
       "      <th>...</th>\n",
       "      <th>dataInclusaoPncp</th>\n",
       "      <th>dataAtualizacaoPncp</th>\n",
       "      <th>dataResultado</th>\n",
       "      <th>margemPreferenciaNormal</th>\n",
       "      <th>percentualMargemPreferenciaNormal</th>\n",
       "      <th>margemPreferenciaAdicional</th>\n",
       "      <th>percentualMargemPreferenciaAdicional</th>\n",
       "      <th>codigoNCM</th>\n",
       "      <th>descricaoNCM</th>\n",
       "      <th>numeroControlePNCPCompra</th>\n",
       "    </tr>\n",
       "  </thead>\n",
       "  <tbody>\n",
       "    <tr>\n",
       "      <th>0</th>\n",
       "      <td>09002807000422025</td>\n",
       "      <td>0900280700042202500001</td>\n",
       "      <td>32243347000151-1-000101/2025</td>\n",
       "      <td>90028</td>\n",
       "      <td>32243347000151</td>\n",
       "      <td>1</td>\n",
       "      <td>1</td>\n",
       "      <td>0</td>\n",
       "      <td>Serviço de acessibilidade à informação e à com...</td>\n",
       "      <td>S</td>\n",
       "      <td>...</td>\n",
       "      <td>2025-08-22T05:01:04</td>\n",
       "      <td>2025-08-22T05:04:05</td>\n",
       "      <td>2025-08-22 00:00:00.0000000</td>\n",
       "      <td>False</td>\n",
       "      <td>NaN</td>\n",
       "      <td>False</td>\n",
       "      <td>NaN</td>\n",
       "      <td>None</td>\n",
       "      <td>None</td>\n",
       "      <td>32243347000151-1-000101/2025</td>\n",
       "    </tr>\n",
       "    <tr>\n",
       "      <th>1</th>\n",
       "      <td>15502106000392025</td>\n",
       "      <td>1550210600039202500001</td>\n",
       "      <td>15126437000305-1-002263/2025</td>\n",
       "      <td>155021</td>\n",
       "      <td>15126437000305</td>\n",
       "      <td>1</td>\n",
       "      <td>1</td>\n",
       "      <td>0</td>\n",
       "      <td>Introdutor Percutâneo tipo: arterial, componen...</td>\n",
       "      <td>M</td>\n",
       "      <td>...</td>\n",
       "      <td>2025-08-22T06:50:58</td>\n",
       "      <td>2025-08-22T06:53:59</td>\n",
       "      <td>2025-08-22 00:00:00.0000000</td>\n",
       "      <td>False</td>\n",
       "      <td>NaN</td>\n",
       "      <td>False</td>\n",
       "      <td>NaN</td>\n",
       "      <td>None</td>\n",
       "      <td>None</td>\n",
       "      <td>15126437000305-1-002263/2025</td>\n",
       "    </tr>\n",
       "    <tr>\n",
       "      <th>2</th>\n",
       "      <td>09018306012252025</td>\n",
       "      <td>0901830601225202500001</td>\n",
       "      <td>46374500000194-1-007979/2025</td>\n",
       "      <td>90183</td>\n",
       "      <td>46374500000194</td>\n",
       "      <td>1</td>\n",
       "      <td>1</td>\n",
       "      <td>0</td>\n",
       "      <td>Avental Procedimento - Paramentação esterilida...</td>\n",
       "      <td>M</td>\n",
       "      <td>...</td>\n",
       "      <td>2025-08-22T06:58:51</td>\n",
       "      <td>2025-08-22T07:01:52</td>\n",
       "      <td>2025-08-22 00:00:00.0000000</td>\n",
       "      <td>False</td>\n",
       "      <td>NaN</td>\n",
       "      <td>False</td>\n",
       "      <td>NaN</td>\n",
       "      <td>None</td>\n",
       "      <td>None</td>\n",
       "      <td>46374500000194-1-007979/2025</td>\n",
       "    </tr>\n",
       "    <tr>\n",
       "      <th>3</th>\n",
       "      <td>15316405901172025</td>\n",
       "      <td>1531640590117202500004</td>\n",
       "      <td>95591764000105-1-000350/2025</td>\n",
       "      <td>153164</td>\n",
       "      <td>95591764000105</td>\n",
       "      <td>4</td>\n",
       "      <td>4</td>\n",
       "      <td>0</td>\n",
       "      <td>Memória ram</td>\n",
       "      <td>M</td>\n",
       "      <td>...</td>\n",
       "      <td>2025-08-22T07:15:37</td>\n",
       "      <td>2025-08-22T07:15:37</td>\n",
       "      <td>None</td>\n",
       "      <td>True</td>\n",
       "      <td>10.0</td>\n",
       "      <td>True</td>\n",
       "      <td>10.0</td>\n",
       "      <td>85423291</td>\n",
       "      <td>None</td>\n",
       "      <td>95591764000105-1-000350/2025</td>\n",
       "    </tr>\n",
       "    <tr>\n",
       "      <th>4</th>\n",
       "      <td>39900805900142025</td>\n",
       "      <td>3990080590014202500001</td>\n",
       "      <td>49582441000138-1-000034/2025</td>\n",
       "      <td>399008</td>\n",
       "      <td>49582441000138</td>\n",
       "      <td>1</td>\n",
       "      <td>1</td>\n",
       "      <td>0</td>\n",
       "      <td>Cessão Temporária de Direitos Sobre Programas ...</td>\n",
       "      <td>S</td>\n",
       "      <td>...</td>\n",
       "      <td>2025-08-22T07:15:40</td>\n",
       "      <td>2025-08-22T07:15:40</td>\n",
       "      <td>None</td>\n",
       "      <td>False</td>\n",
       "      <td>NaN</td>\n",
       "      <td>False</td>\n",
       "      <td>NaN</td>\n",
       "      <td>None</td>\n",
       "      <td>None</td>\n",
       "      <td>49582441000138-1-000034/2025</td>\n",
       "    </tr>\n",
       "  </tbody>\n",
       "</table>\n",
       "<p>5 rows × 45 columns</p>\n",
       "</div>"
      ],
      "text/plain": [
       "            idCompra            idCompraItem             idContratacaoPNCP  \\\n",
       "0  09002807000422025  0900280700042202500001  32243347000151-1-000101/2025   \n",
       "1  15502106000392025  1550210600039202500001  15126437000305-1-002263/2025   \n",
       "2  09018306012252025  0901830601225202500001  46374500000194-1-007979/2025   \n",
       "3  15316405901172025  1531640590117202500004  95591764000105-1-000350/2025   \n",
       "4  39900805900142025  3990080590014202500001  49582441000138-1-000034/2025   \n",
       "\n",
       "   unidadeOrgaoCodigoUnidade orgaoEntidadeCnpj  numeroItemPncp  \\\n",
       "0                      90028    32243347000151               1   \n",
       "1                     155021    15126437000305               1   \n",
       "2                      90183    46374500000194               1   \n",
       "3                     153164    95591764000105               4   \n",
       "4                     399008    49582441000138               1   \n",
       "\n",
       "   numeroItemCompra  numeroGrupo  \\\n",
       "0                 1            0   \n",
       "1                 1            0   \n",
       "2                 1            0   \n",
       "3                 4            0   \n",
       "4                 1            0   \n",
       "\n",
       "                                   descricaoResumida materialOuServico  ...  \\\n",
       "0  Serviço de acessibilidade à informação e à com...                 S  ...   \n",
       "1  Introdutor Percutâneo tipo: arterial, componen...                 M  ...   \n",
       "2  Avental Procedimento - Paramentação esterilida...                 M  ...   \n",
       "3                                        Memória ram                 M  ...   \n",
       "4  Cessão Temporária de Direitos Sobre Programas ...                 S  ...   \n",
       "\n",
       "      dataInclusaoPncp  dataAtualizacaoPncp                dataResultado  \\\n",
       "0  2025-08-22T05:01:04  2025-08-22T05:04:05  2025-08-22 00:00:00.0000000   \n",
       "1  2025-08-22T06:50:58  2025-08-22T06:53:59  2025-08-22 00:00:00.0000000   \n",
       "2  2025-08-22T06:58:51  2025-08-22T07:01:52  2025-08-22 00:00:00.0000000   \n",
       "3  2025-08-22T07:15:37  2025-08-22T07:15:37                         None   \n",
       "4  2025-08-22T07:15:40  2025-08-22T07:15:40                         None   \n",
       "\n",
       "   margemPreferenciaNormal percentualMargemPreferenciaNormal  \\\n",
       "0                    False                               NaN   \n",
       "1                    False                               NaN   \n",
       "2                    False                               NaN   \n",
       "3                     True                              10.0   \n",
       "4                    False                               NaN   \n",
       "\n",
       "  margemPreferenciaAdicional  percentualMargemPreferenciaAdicional  codigoNCM  \\\n",
       "0                      False                                   NaN       None   \n",
       "1                      False                                   NaN       None   \n",
       "2                      False                                   NaN       None   \n",
       "3                       True                                  10.0   85423291   \n",
       "4                      False                                   NaN       None   \n",
       "\n",
       "  descricaoNCM      numeroControlePNCPCompra  \n",
       "0         None  32243347000151-1-000101/2025  \n",
       "1         None  15126437000305-1-002263/2025  \n",
       "2         None  46374500000194-1-007979/2025  \n",
       "3         None  95591764000105-1-000350/2025  \n",
       "4         None  49582441000138-1-000034/2025  \n",
       "\n",
       "[5 rows x 45 columns]"
      ]
     },
     "metadata": {},
     "output_type": "display_data"
    },
    {
     "name": "stdout",
     "output_type": "stream",
     "text": [
      "\n",
      "📂 Arquivo: pncp_itens_2025-08-22_a_2025-08-22.json\n",
      "🔑 Chaves (45): ['idCompra', 'idCompraItem', 'idContratacaoPNCP', 'unidadeOrgaoCodigoUnidade', 'orgaoEntidadeCnpj', 'numeroItemPncp', 'numeroItemCompra', 'numeroGrupo', 'descricaoResumida', 'materialOuServico', 'materialOuServicoNome', 'codigoClasse', 'codigoGrupo', 'codItemCatalogo', 'descricaodetalhada', 'unidadeMedida', 'orcamentoSigiloso', 'itemCategoriaIdPncp', 'itemCategoriaNome', 'criterioJulgamentoIdPncp', 'criterioJulgamentoNome', 'situacaoCompraItem', 'situacaoCompraItemNome', 'tipoBeneficio', 'tipoBeneficioNome', 'incentivoProdutivoBasico', 'quantidade', 'valorUnitarioEstimado', 'valorTotal', 'temResultado', 'codFornecedor', 'nomeFornecedor', 'quantidadeResultado', 'valorUnitarioResultado', 'valorTotalResultado', 'dataInclusaoPncp', 'dataAtualizacaoPncp', 'dataResultado', 'margemPreferenciaNormal', 'percentualMargemPreferenciaNormal', 'margemPreferenciaAdicional', 'percentualMargemPreferenciaAdicional', 'codigoNCM', 'descricaoNCM', 'numeroControlePNCPCompra']\n",
      "\n",
      "=== Informações do DataFrame Final ===\n",
      "📊 Total de linhas: 12052\n",
      "📊 Total de colunas: 45\n",
      "\n",
      "🔎 Tipos de dados por coluna:\n",
      "idCompra                                 object\n",
      "idCompraItem                             object\n",
      "idContratacaoPNCP                        object\n",
      "unidadeOrgaoCodigoUnidade                 int64\n",
      "orgaoEntidadeCnpj                        object\n",
      "numeroItemPncp                            int64\n",
      "numeroItemCompra                          int64\n",
      "numeroGrupo                               int64\n",
      "descricaoResumida                        object\n",
      "materialOuServico                        object\n",
      "materialOuServicoNome                    object\n",
      "codigoClasse                            float64\n",
      "codigoGrupo                             float64\n",
      "codItemCatalogo                         float64\n",
      "descricaodetalhada                       object\n",
      "unidadeMedida                            object\n",
      "orcamentoSigiloso                          bool\n",
      "itemCategoriaIdPncp                       int64\n",
      "itemCategoriaNome                        object\n",
      "criterioJulgamentoIdPncp                  int64\n",
      "criterioJulgamentoNome                   object\n",
      "situacaoCompraItem                       object\n",
      "situacaoCompraItemNome                   object\n",
      "tipoBeneficio                            object\n",
      "tipoBeneficioNome                        object\n",
      "incentivoProdutivoBasico                   bool\n",
      "quantidade                              float64\n",
      "valorUnitarioEstimado                   float64\n",
      "valorTotal                              float64\n",
      "temResultado                             object\n",
      "codFornecedor                            object\n",
      "nomeFornecedor                           object\n",
      "quantidadeResultado                     float64\n",
      "valorUnitarioResultado                  float64\n",
      "valorTotalResultado                     float64\n",
      "dataInclusaoPncp                         object\n",
      "dataAtualizacaoPncp                      object\n",
      "dataResultado                            object\n",
      "margemPreferenciaNormal                    bool\n",
      "percentualMargemPreferenciaNormal       float64\n",
      "margemPreferenciaAdicional                 bool\n",
      "percentualMargemPreferenciaAdicional    float64\n",
      "codigoNCM                                object\n",
      "descricaoNCM                             object\n",
      "numeroControlePNCPCompra                 object\n",
      "dtype: object\n",
      "\n",
      "📋 Resumo geral (inclui nulos e memória):\n",
      "<class 'pandas.core.frame.DataFrame'>\n",
      "RangeIndex: 12052 entries, 0 to 12051\n",
      "Data columns (total 45 columns):\n",
      " #   Column                                Non-Null Count  Dtype  \n",
      "---  ------                                --------------  -----  \n",
      " 0   idCompra                              12052 non-null  object \n",
      " 1   idCompraItem                          12052 non-null  object \n",
      " 2   idContratacaoPNCP                     12052 non-null  object \n",
      " 3   unidadeOrgaoCodigoUnidade             12052 non-null  int64  \n",
      " 4   orgaoEntidadeCnpj                     12052 non-null  object \n",
      " 5   numeroItemPncp                        12052 non-null  int64  \n",
      " 6   numeroItemCompra                      12052 non-null  int64  \n",
      " 7   numeroGrupo                           12052 non-null  int64  \n",
      " 8   descricaoResumida                     12052 non-null  object \n",
      " 9   materialOuServico                     12052 non-null  object \n",
      " 10  materialOuServicoNome                 12052 non-null  object \n",
      " 11  codigoClasse                          9311 non-null   float64\n",
      " 12  codigoGrupo                           1243 non-null   float64\n",
      " 13  codItemCatalogo                       10554 non-null  float64\n",
      " 14  descricaodetalhada                    10554 non-null  object \n",
      " 15  unidadeMedida                         12052 non-null  object \n",
      " 16  orcamentoSigiloso                     12052 non-null  bool   \n",
      " 17  itemCategoriaIdPncp                   12052 non-null  int64  \n",
      " 18  itemCategoriaNome                     12052 non-null  object \n",
      " 19  criterioJulgamentoIdPncp              12052 non-null  int64  \n",
      " 20  criterioJulgamentoNome                12052 non-null  object \n",
      " 21  situacaoCompraItem                    12052 non-null  object \n",
      " 22  situacaoCompraItemNome                12052 non-null  object \n",
      " 23  tipoBeneficio                         12052 non-null  object \n",
      " 24  tipoBeneficioNome                     12052 non-null  object \n",
      " 25  incentivoProdutivoBasico              12052 non-null  bool   \n",
      " 26  quantidade                            12052 non-null  float64\n",
      " 27  valorUnitarioEstimado                 12052 non-null  float64\n",
      " 28  valorTotal                            12052 non-null  float64\n",
      " 29  temResultado                          1304 non-null   object \n",
      " 30  codFornecedor                         1304 non-null   object \n",
      " 31  nomeFornecedor                        1304 non-null   object \n",
      " 32  quantidadeResultado                   1304 non-null   float64\n",
      " 33  valorUnitarioResultado                1304 non-null   float64\n",
      " 34  valorTotalResultado                   1304 non-null   float64\n",
      " 35  dataInclusaoPncp                      12052 non-null  object \n",
      " 36  dataAtualizacaoPncp                   12052 non-null  object \n",
      " 37  dataResultado                         1304 non-null   object \n",
      " 38  margemPreferenciaNormal               12052 non-null  bool   \n",
      " 39  percentualMargemPreferenciaNormal     161 non-null    float64\n",
      " 40  margemPreferenciaAdicional            12052 non-null  bool   \n",
      " 41  percentualMargemPreferenciaAdicional  130 non-null    float64\n",
      " 42  codigoNCM                             1874 non-null   object \n",
      " 43  descricaoNCM                          0 non-null      object \n",
      " 44  numeroControlePNCPCompra              12052 non-null  object \n",
      "dtypes: bool(4), float64(11), int64(6), object(24)\n",
      "memory usage: 3.8+ MB\n",
      "None\n"
     ]
    }
   ],
   "source": [
    "import os\n",
    "import json\n",
    "import pandas as pd\n",
    "\n",
    "# Caminho da pasta\n",
    "pasta = r\"C:\\Users\\VitorGiglio\\Downloads\\VG\\Python\\Dados\\Itens\"\n",
    "\n",
    "# Listar todos os arquivos .json da pasta\n",
    "arquivos = [f for f in os.listdir(pasta) if f.endswith(\".json\")]\n",
    "\n",
    "dfs = []\n",
    "resultado = {}\n",
    "\n",
    "for arquivo in arquivos:\n",
    "    caminho = os.path.join(pasta, arquivo)\n",
    "    try:\n",
    "        with open(caminho, \"r\", encoding=\"utf-8\") as f:\n",
    "            data = json.load(f)\n",
    "\n",
    "        if isinstance(data, dict):\n",
    "            for v in data.values():\n",
    "                if isinstance(v, list):\n",
    "                    df = pd.DataFrame(v)\n",
    "                    break\n",
    "            else:\n",
    "                df = pd.DataFrame([data])\n",
    "        elif isinstance(data, list):\n",
    "            df = pd.DataFrame(data)\n",
    "        else:\n",
    "            continue\n",
    "\n",
    "        resultado[arquivo] = list(df.columns)\n",
    "        dfs.append(df)\n",
    "\n",
    "    except Exception as e:\n",
    "        print(f\"Erro em {arquivo}: {e}\")\n",
    "\n",
    "# Concatenar tudo em um único DataFrame\n",
    "df_itens = pd.concat(dfs, ignore_index=True)\n",
    "\n",
    "# Mostrar as primeiras linhas\n",
    "display(df_itens.head())\n",
    "\n",
    "# Mostrar as chaves identificadas em cada arquivo\n",
    "for arq, chaves in resultado.items():\n",
    "    print(f\"\\n📂 Arquivo: {arq}\")\n",
    "    print(f\"🔑 Chaves ({len(chaves)}): {chaves}\")\n",
    "\n",
    "# -------------------------------\n",
    "# 🔍 Informações do DataFrame final\n",
    "print(\"\\n=== Informações do DataFrame Final ===\")\n",
    "print(f\"📊 Total de linhas: {df_itens.shape[0]}\")\n",
    "print(f\"📊 Total de colunas: {df_itens.shape[1]}\")\n",
    "\n",
    "print(\"\\n🔎 Tipos de dados por coluna:\")\n",
    "print(df_itens.dtypes)\n",
    "\n",
    "print(\"\\n📋 Resumo geral (inclui nulos e memória):\")\n",
    "print(df_itens.info())\n"
   ]
  },
  {
   "cell_type": "code",
   "execution_count": 36,
   "id": "378e5118",
   "metadata": {},
   "outputs": [
    {
     "name": "stdout",
     "output_type": "stream",
     "text": [
      "Linhas sem correspondência: 506\n",
      "Separada 'dataEncerramentoPropostaPncp' em: 'dataEncerramentoPropostaPncp_data' (datetime), 'dataEncerramentoPropostaPncp_hora' (hora string) e 'dataEncerramentoPropostaPncp_ddmmyyyy' (string DD/MM/AAAA)\n"
     ]
    }
   ],
   "source": [
    "# Cópias para não alterar os originais\n",
    "itens = df_itens.copy()\n",
    "lic   = df_licitacoes.copy()\n",
    "\n",
    "# Padroniza nomes de colunas (remove espaços extras)\n",
    "itens.columns = itens.columns.str.strip()\n",
    "lic.columns   = lic.columns.str.strip()\n",
    "\n",
    "# Cria chave de junção padronizada (string e sem espaços)\n",
    "itens['_join_key'] = itens['idContratacaoPNCP'].astype(str).str.strip()\n",
    "lic['_join_key']   = lic['numeroControlePNCP'].astype(str).str.strip()\n",
    "\n",
    "# Mantém apenas as colunas necessárias do df_licitacoes\n",
    "lic_slim = lic[['_join_key', 'anoCompraPncp','orgaoEntidadeEsferaId','unidadeOrgaoNomeUnidade','unidadeOrgaoUfSigla','unidadeOrgaoMunicipioNome','numeroCompra','modalidadeNome','srp','objetoCompra','situacaoCompraNomePncp','modoDisputaNomePncp','valorTotalEstimado','dataAberturaPropostaPncp','dataEncerramentoPropostaPncp','dataInclusaoPncp']].drop_duplicates('_join_key')\n",
    "\n",
    "# Faz o merge (left join)\n",
    "df_mesclado = itens.merge(lic_slim, on='_join_key', how='left').drop(columns=['_join_key'])\n",
    "\n",
    "# Diagnóstico opcional\n",
    "na_sem_match = df_mesclado['anoCompraPncp'].isna().sum()\n",
    "print(f'Linhas sem correspondência: {na_sem_match}')\n",
    "\n",
    "# --- novo: separar data e hora de dataEncerramentoPropostaPncp ---\n",
    "col = 'dataEncerramentoPropostaPncp'\n",
    "if col in df_mesclado.columns:\n",
    "    # converte para datetime (tratando strings como '2025-09-03T09:00:00'); valores inválidos viram NaT\n",
    "    df_mesclado[col] = pd.to_datetime(df_mesclado[col], errors='coerce')\n",
    "\n",
    "    # coluna de data como datetime64[ns] (útil para filtros/intervalos) - sem hora (midnight)\n",
    "    df_mesclado[col + '_data'] = df_mesclado[col].dt.normalize().astype('datetime64[ns]')\n",
    "\n",
    "    # coluna de hora como string HH:MM:SS (mantém None/NaN quando original inválido)\n",
    "    df_mesclado[col + '_hora'] = df_mesclado[col].dt.strftime('%H:%M:%S').where(df_mesclado[col].notna(), None)\n",
    "\n",
    "    # coluna auxiliar formatada em DD/MM/AAAA (string apenas para visualização/exportação se quiser)\n",
    "    df_mesclado[col + '_ddmmyyyy'] = df_mesclado[col + '_data'].dt.strftime('%d/%m/%Y').where(df_mesclado[col + '_data'].notna(), None)\n",
    "\n",
    "    print(f\"Separada '{col}' em: '{col + '_data'}' (datetime), '{col + '_hora'}' (hora string) e '{col + '_ddmmyyyy'}' (string DD/MM/AAAA)\")\n",
    "else:\n",
    "    print(f\"A coluna '{col}' não existe em df_mesclado.\")\n"
   ]
  },
  {
   "cell_type": "code",
   "execution_count": 37,
   "id": "4f52790b",
   "metadata": {},
   "outputs": [
    {
     "name": "stdout",
     "output_type": "stream",
     "text": [
      "Colunas do df_mesclado:\n"
     ]
    },
    {
     "data": {
      "text/plain": [
       "'idCompra'"
      ]
     },
     "metadata": {},
     "output_type": "display_data"
    },
    {
     "data": {
      "text/plain": [
       "'idCompraItem'"
      ]
     },
     "metadata": {},
     "output_type": "display_data"
    },
    {
     "data": {
      "text/plain": [
       "'idContratacaoPNCP'"
      ]
     },
     "metadata": {},
     "output_type": "display_data"
    },
    {
     "data": {
      "text/plain": [
       "'unidadeOrgaoCodigoUnidade'"
      ]
     },
     "metadata": {},
     "output_type": "display_data"
    },
    {
     "data": {
      "text/plain": [
       "'orgaoEntidadeCnpj'"
      ]
     },
     "metadata": {},
     "output_type": "display_data"
    },
    {
     "data": {
      "text/plain": [
       "'numeroItemPncp'"
      ]
     },
     "metadata": {},
     "output_type": "display_data"
    },
    {
     "data": {
      "text/plain": [
       "'numeroItemCompra'"
      ]
     },
     "metadata": {},
     "output_type": "display_data"
    },
    {
     "data": {
      "text/plain": [
       "'numeroGrupo'"
      ]
     },
     "metadata": {},
     "output_type": "display_data"
    },
    {
     "data": {
      "text/plain": [
       "'descricaoResumida'"
      ]
     },
     "metadata": {},
     "output_type": "display_data"
    },
    {
     "data": {
      "text/plain": [
       "'materialOuServico'"
      ]
     },
     "metadata": {},
     "output_type": "display_data"
    },
    {
     "data": {
      "text/plain": [
       "'materialOuServicoNome'"
      ]
     },
     "metadata": {},
     "output_type": "display_data"
    },
    {
     "data": {
      "text/plain": [
       "'codigoClasse'"
      ]
     },
     "metadata": {},
     "output_type": "display_data"
    },
    {
     "data": {
      "text/plain": [
       "'codigoGrupo'"
      ]
     },
     "metadata": {},
     "output_type": "display_data"
    },
    {
     "data": {
      "text/plain": [
       "'codItemCatalogo'"
      ]
     },
     "metadata": {},
     "output_type": "display_data"
    },
    {
     "data": {
      "text/plain": [
       "'descricaodetalhada'"
      ]
     },
     "metadata": {},
     "output_type": "display_data"
    },
    {
     "data": {
      "text/plain": [
       "'unidadeMedida'"
      ]
     },
     "metadata": {},
     "output_type": "display_data"
    },
    {
     "data": {
      "text/plain": [
       "'orcamentoSigiloso'"
      ]
     },
     "metadata": {},
     "output_type": "display_data"
    },
    {
     "data": {
      "text/plain": [
       "'itemCategoriaIdPncp'"
      ]
     },
     "metadata": {},
     "output_type": "display_data"
    },
    {
     "data": {
      "text/plain": [
       "'itemCategoriaNome'"
      ]
     },
     "metadata": {},
     "output_type": "display_data"
    },
    {
     "data": {
      "text/plain": [
       "'criterioJulgamentoIdPncp'"
      ]
     },
     "metadata": {},
     "output_type": "display_data"
    },
    {
     "data": {
      "text/plain": [
       "'criterioJulgamentoNome'"
      ]
     },
     "metadata": {},
     "output_type": "display_data"
    },
    {
     "data": {
      "text/plain": [
       "'situacaoCompraItem'"
      ]
     },
     "metadata": {},
     "output_type": "display_data"
    },
    {
     "data": {
      "text/plain": [
       "'situacaoCompraItemNome'"
      ]
     },
     "metadata": {},
     "output_type": "display_data"
    },
    {
     "data": {
      "text/plain": [
       "'tipoBeneficio'"
      ]
     },
     "metadata": {},
     "output_type": "display_data"
    },
    {
     "data": {
      "text/plain": [
       "'tipoBeneficioNome'"
      ]
     },
     "metadata": {},
     "output_type": "display_data"
    },
    {
     "data": {
      "text/plain": [
       "'incentivoProdutivoBasico'"
      ]
     },
     "metadata": {},
     "output_type": "display_data"
    },
    {
     "data": {
      "text/plain": [
       "'quantidade'"
      ]
     },
     "metadata": {},
     "output_type": "display_data"
    },
    {
     "data": {
      "text/plain": [
       "'valorUnitarioEstimado'"
      ]
     },
     "metadata": {},
     "output_type": "display_data"
    },
    {
     "data": {
      "text/plain": [
       "'valorTotal'"
      ]
     },
     "metadata": {},
     "output_type": "display_data"
    },
    {
     "data": {
      "text/plain": [
       "'temResultado'"
      ]
     },
     "metadata": {},
     "output_type": "display_data"
    },
    {
     "data": {
      "text/plain": [
       "'codFornecedor'"
      ]
     },
     "metadata": {},
     "output_type": "display_data"
    },
    {
     "data": {
      "text/plain": [
       "'nomeFornecedor'"
      ]
     },
     "metadata": {},
     "output_type": "display_data"
    },
    {
     "data": {
      "text/plain": [
       "'quantidadeResultado'"
      ]
     },
     "metadata": {},
     "output_type": "display_data"
    },
    {
     "data": {
      "text/plain": [
       "'valorUnitarioResultado'"
      ]
     },
     "metadata": {},
     "output_type": "display_data"
    },
    {
     "data": {
      "text/plain": [
       "'valorTotalResultado'"
      ]
     },
     "metadata": {},
     "output_type": "display_data"
    },
    {
     "data": {
      "text/plain": [
       "'dataInclusaoPncp_x'"
      ]
     },
     "metadata": {},
     "output_type": "display_data"
    },
    {
     "data": {
      "text/plain": [
       "'dataAtualizacaoPncp'"
      ]
     },
     "metadata": {},
     "output_type": "display_data"
    },
    {
     "data": {
      "text/plain": [
       "'dataResultado'"
      ]
     },
     "metadata": {},
     "output_type": "display_data"
    },
    {
     "data": {
      "text/plain": [
       "'margemPreferenciaNormal'"
      ]
     },
     "metadata": {},
     "output_type": "display_data"
    },
    {
     "data": {
      "text/plain": [
       "'percentualMargemPreferenciaNormal'"
      ]
     },
     "metadata": {},
     "output_type": "display_data"
    },
    {
     "data": {
      "text/plain": [
       "'margemPreferenciaAdicional'"
      ]
     },
     "metadata": {},
     "output_type": "display_data"
    },
    {
     "data": {
      "text/plain": [
       "'percentualMargemPreferenciaAdicional'"
      ]
     },
     "metadata": {},
     "output_type": "display_data"
    },
    {
     "data": {
      "text/plain": [
       "'codigoNCM'"
      ]
     },
     "metadata": {},
     "output_type": "display_data"
    },
    {
     "data": {
      "text/plain": [
       "'descricaoNCM'"
      ]
     },
     "metadata": {},
     "output_type": "display_data"
    },
    {
     "data": {
      "text/plain": [
       "'numeroControlePNCPCompra'"
      ]
     },
     "metadata": {},
     "output_type": "display_data"
    },
    {
     "data": {
      "text/plain": [
       "'anoCompraPncp'"
      ]
     },
     "metadata": {},
     "output_type": "display_data"
    },
    {
     "data": {
      "text/plain": [
       "'orgaoEntidadeEsferaId'"
      ]
     },
     "metadata": {},
     "output_type": "display_data"
    },
    {
     "data": {
      "text/plain": [
       "'unidadeOrgaoNomeUnidade'"
      ]
     },
     "metadata": {},
     "output_type": "display_data"
    },
    {
     "data": {
      "text/plain": [
       "'unidadeOrgaoUfSigla'"
      ]
     },
     "metadata": {},
     "output_type": "display_data"
    },
    {
     "data": {
      "text/plain": [
       "'unidadeOrgaoMunicipioNome'"
      ]
     },
     "metadata": {},
     "output_type": "display_data"
    },
    {
     "data": {
      "text/plain": [
       "'numeroCompra'"
      ]
     },
     "metadata": {},
     "output_type": "display_data"
    },
    {
     "data": {
      "text/plain": [
       "'modalidadeNome'"
      ]
     },
     "metadata": {},
     "output_type": "display_data"
    },
    {
     "data": {
      "text/plain": [
       "'srp'"
      ]
     },
     "metadata": {},
     "output_type": "display_data"
    },
    {
     "data": {
      "text/plain": [
       "'objetoCompra'"
      ]
     },
     "metadata": {},
     "output_type": "display_data"
    },
    {
     "data": {
      "text/plain": [
       "'situacaoCompraNomePncp'"
      ]
     },
     "metadata": {},
     "output_type": "display_data"
    },
    {
     "data": {
      "text/plain": [
       "'modoDisputaNomePncp'"
      ]
     },
     "metadata": {},
     "output_type": "display_data"
    },
    {
     "data": {
      "text/plain": [
       "'valorTotalEstimado'"
      ]
     },
     "metadata": {},
     "output_type": "display_data"
    },
    {
     "data": {
      "text/plain": [
       "'dataAberturaPropostaPncp'"
      ]
     },
     "metadata": {},
     "output_type": "display_data"
    },
    {
     "data": {
      "text/plain": [
       "'dataEncerramentoPropostaPncp'"
      ]
     },
     "metadata": {},
     "output_type": "display_data"
    },
    {
     "data": {
      "text/plain": [
       "'dataInclusaoPncp_y'"
      ]
     },
     "metadata": {},
     "output_type": "display_data"
    },
    {
     "data": {
      "text/plain": [
       "'dataEncerramentoPropostaPncp_data'"
      ]
     },
     "metadata": {},
     "output_type": "display_data"
    },
    {
     "data": {
      "text/plain": [
       "'dataEncerramentoPropostaPncp_hora'"
      ]
     },
     "metadata": {},
     "output_type": "display_data"
    },
    {
     "data": {
      "text/plain": [
       "'dataEncerramentoPropostaPncp_ddmmyyyy'"
      ]
     },
     "metadata": {},
     "output_type": "display_data"
    },
    {
     "data": {
      "text/html": [
       "<div>\n",
       "<style scoped>\n",
       "    .dataframe tbody tr th:only-of-type {\n",
       "        vertical-align: middle;\n",
       "    }\n",
       "\n",
       "    .dataframe tbody tr th {\n",
       "        vertical-align: top;\n",
       "    }\n",
       "\n",
       "    .dataframe thead th {\n",
       "        text-align: right;\n",
       "    }\n",
       "</style>\n",
       "<table border=\"1\" class=\"dataframe\">\n",
       "  <thead>\n",
       "    <tr style=\"text-align: right;\">\n",
       "      <th></th>\n",
       "      <th>idCompra</th>\n",
       "      <th>idCompraItem</th>\n",
       "      <th>idContratacaoPNCP</th>\n",
       "      <th>unidadeOrgaoCodigoUnidade</th>\n",
       "      <th>orgaoEntidadeCnpj</th>\n",
       "      <th>numeroItemPncp</th>\n",
       "      <th>numeroItemCompra</th>\n",
       "      <th>numeroGrupo</th>\n",
       "      <th>descricaoResumida</th>\n",
       "      <th>materialOuServico</th>\n",
       "      <th>...</th>\n",
       "      <th>objetoCompra</th>\n",
       "      <th>situacaoCompraNomePncp</th>\n",
       "      <th>modoDisputaNomePncp</th>\n",
       "      <th>valorTotalEstimado</th>\n",
       "      <th>dataAberturaPropostaPncp</th>\n",
       "      <th>dataEncerramentoPropostaPncp</th>\n",
       "      <th>dataInclusaoPncp_y</th>\n",
       "      <th>dataEncerramentoPropostaPncp_data</th>\n",
       "      <th>dataEncerramentoPropostaPncp_hora</th>\n",
       "      <th>dataEncerramentoPropostaPncp_ddmmyyyy</th>\n",
       "    </tr>\n",
       "  </thead>\n",
       "  <tbody>\n",
       "    <tr>\n",
       "      <th>0</th>\n",
       "      <td>09002807000422025</td>\n",
       "      <td>0900280700042202500001</td>\n",
       "      <td>32243347000151-1-000101/2025</td>\n",
       "      <td>90028</td>\n",
       "      <td>32243347000151</td>\n",
       "      <td>1</td>\n",
       "      <td>1</td>\n",
       "      <td>0</td>\n",
       "      <td>Serviço de acessibilidade à informação e à com...</td>\n",
       "      <td>S</td>\n",
       "      <td>...</td>\n",
       "      <td>NaN</td>\n",
       "      <td>NaN</td>\n",
       "      <td>NaN</td>\n",
       "      <td>NaN</td>\n",
       "      <td>NaN</td>\n",
       "      <td>NaT</td>\n",
       "      <td>NaN</td>\n",
       "      <td>NaT</td>\n",
       "      <td>None</td>\n",
       "      <td>None</td>\n",
       "    </tr>\n",
       "    <tr>\n",
       "      <th>1</th>\n",
       "      <td>15502106000392025</td>\n",
       "      <td>1550210600039202500001</td>\n",
       "      <td>15126437000305-1-002263/2025</td>\n",
       "      <td>155021</td>\n",
       "      <td>15126437000305</td>\n",
       "      <td>1</td>\n",
       "      <td>1</td>\n",
       "      <td>0</td>\n",
       "      <td>Introdutor Percutâneo tipo: arterial, componen...</td>\n",
       "      <td>M</td>\n",
       "      <td>...</td>\n",
       "      <td>AGENTE EMBOLIZANTE TIPO MICROPARTICULAS DE POL...</td>\n",
       "      <td>Divulgada no PNCP</td>\n",
       "      <td>Não se aplica</td>\n",
       "      <td>32400.00</td>\n",
       "      <td>None</td>\n",
       "      <td>NaT</td>\n",
       "      <td>2025-08-22T06:50:58</td>\n",
       "      <td>NaT</td>\n",
       "      <td>None</td>\n",
       "      <td>None</td>\n",
       "    </tr>\n",
       "    <tr>\n",
       "      <th>2</th>\n",
       "      <td>09018306012252025</td>\n",
       "      <td>0901830601225202500001</td>\n",
       "      <td>46374500000194-1-007979/2025</td>\n",
       "      <td>90183</td>\n",
       "      <td>46374500000194</td>\n",
       "      <td>1</td>\n",
       "      <td>1</td>\n",
       "      <td>0</td>\n",
       "      <td>Avental Procedimento - Paramentação esterilida...</td>\n",
       "      <td>M</td>\n",
       "      <td>...</td>\n",
       "      <td>Aquisição de Avental Descartável, cumprimento ...</td>\n",
       "      <td>Divulgada no PNCP</td>\n",
       "      <td>Não se aplica</td>\n",
       "      <td>18100.00</td>\n",
       "      <td>None</td>\n",
       "      <td>NaT</td>\n",
       "      <td>2025-08-22T06:58:51</td>\n",
       "      <td>NaT</td>\n",
       "      <td>None</td>\n",
       "      <td>None</td>\n",
       "    </tr>\n",
       "    <tr>\n",
       "      <th>3</th>\n",
       "      <td>15316405901172025</td>\n",
       "      <td>1531640590117202500004</td>\n",
       "      <td>95591764000105-1-000350/2025</td>\n",
       "      <td>153164</td>\n",
       "      <td>95591764000105</td>\n",
       "      <td>4</td>\n",
       "      <td>4</td>\n",
       "      <td>0</td>\n",
       "      <td>Memória ram</td>\n",
       "      <td>M</td>\n",
       "      <td>...</td>\n",
       "      <td>Registro de preços para aquisição de materiais...</td>\n",
       "      <td>Divulgada no PNCP</td>\n",
       "      <td>Aberto-Fechado</td>\n",
       "      <td>383270.53</td>\n",
       "      <td>2025-08-22T08:00:00</td>\n",
       "      <td>2025-09-03 09:00:00</td>\n",
       "      <td>2025-08-22T07:15:37</td>\n",
       "      <td>2025-09-03</td>\n",
       "      <td>09:00:00</td>\n",
       "      <td>03/09/2025</td>\n",
       "    </tr>\n",
       "    <tr>\n",
       "      <th>4</th>\n",
       "      <td>39900805900142025</td>\n",
       "      <td>3990080590014202500001</td>\n",
       "      <td>49582441000138-1-000034/2025</td>\n",
       "      <td>399008</td>\n",
       "      <td>49582441000138</td>\n",
       "      <td>1</td>\n",
       "      <td>1</td>\n",
       "      <td>0</td>\n",
       "      <td>Cessão Temporária de Direitos Sobre Programas ...</td>\n",
       "      <td>S</td>\n",
       "      <td>...</td>\n",
       "      <td>Aquisição de licenças, garantia e suporte técn...</td>\n",
       "      <td>Divulgada no PNCP</td>\n",
       "      <td>Aberto</td>\n",
       "      <td>0.00</td>\n",
       "      <td>2025-08-22T08:00:00</td>\n",
       "      <td>2025-09-03 10:00:00</td>\n",
       "      <td>2025-08-22T07:15:40</td>\n",
       "      <td>2025-09-03</td>\n",
       "      <td>10:00:00</td>\n",
       "      <td>03/09/2025</td>\n",
       "    </tr>\n",
       "    <tr>\n",
       "      <th>...</th>\n",
       "      <td>...</td>\n",
       "      <td>...</td>\n",
       "      <td>...</td>\n",
       "      <td>...</td>\n",
       "      <td>...</td>\n",
       "      <td>...</td>\n",
       "      <td>...</td>\n",
       "      <td>...</td>\n",
       "      <td>...</td>\n",
       "      <td>...</td>\n",
       "      <td>...</td>\n",
       "      <td>...</td>\n",
       "      <td>...</td>\n",
       "      <td>...</td>\n",
       "      <td>...</td>\n",
       "      <td>...</td>\n",
       "      <td>...</td>\n",
       "      <td>...</td>\n",
       "      <td>...</td>\n",
       "      <td>...</td>\n",
       "      <td>...</td>\n",
       "    </tr>\n",
       "    <tr>\n",
       "      <th>12047</th>\n",
       "      <td>15502106000432025</td>\n",
       "      <td>1550210600043202500001</td>\n",
       "      <td>15126437000305-1-002284/2025</td>\n",
       "      <td>155021</td>\n",
       "      <td>15126437000305</td>\n",
       "      <td>1</td>\n",
       "      <td>1</td>\n",
       "      <td>0</td>\n",
       "      <td>Ciclosporina concentração: 100</td>\n",
       "      <td>M</td>\n",
       "      <td>...</td>\n",
       "      <td>CICLOSPORINA 100 MG CÁPSULA</td>\n",
       "      <td>Divulgada no PNCP</td>\n",
       "      <td>Não se aplica</td>\n",
       "      <td>38760.00</td>\n",
       "      <td>None</td>\n",
       "      <td>NaT</td>\n",
       "      <td>2025-08-22T14:33:09</td>\n",
       "      <td>NaT</td>\n",
       "      <td>None</td>\n",
       "      <td>None</td>\n",
       "    </tr>\n",
       "    <tr>\n",
       "      <th>12048</th>\n",
       "      <td>98422306901302025</td>\n",
       "      <td>9842230690130202500001</td>\n",
       "      <td>18659334000137-1-000539/2025</td>\n",
       "      <td>984223</td>\n",
       "      <td>18659334000137</td>\n",
       "      <td>1</td>\n",
       "      <td>1</td>\n",
       "      <td>0</td>\n",
       "      <td>Armário Aço</td>\n",
       "      <td>M</td>\n",
       "      <td>...</td>\n",
       "      <td>Aquisição de móveis e equipamento para atender...</td>\n",
       "      <td>Divulgada no PNCP</td>\n",
       "      <td>Dispensa Com Disputa</td>\n",
       "      <td>24850.30</td>\n",
       "      <td>2025-08-22T14:33:50</td>\n",
       "      <td>2025-08-27 07:59:59</td>\n",
       "      <td>2025-08-22T14:33:51</td>\n",
       "      <td>2025-08-27</td>\n",
       "      <td>07:59:59</td>\n",
       "      <td>27/08/2025</td>\n",
       "    </tr>\n",
       "    <tr>\n",
       "      <th>12049</th>\n",
       "      <td>92517206000572025</td>\n",
       "      <td>9251720600057202500001</td>\n",
       "      <td>05903125000145-1-000152/2025</td>\n",
       "      <td>925172</td>\n",
       "      <td>05903125000145</td>\n",
       "      <td>1</td>\n",
       "      <td>1</td>\n",
       "      <td>0</td>\n",
       "      <td>Locação Sala / Auditório Locação Sala / Auditório</td>\n",
       "      <td>S</td>\n",
       "      <td>...</td>\n",
       "      <td>Contratação de Empresa Especializada em Locaçã...</td>\n",
       "      <td>Divulgada no PNCP</td>\n",
       "      <td>Não se aplica</td>\n",
       "      <td>16500.00</td>\n",
       "      <td>None</td>\n",
       "      <td>NaT</td>\n",
       "      <td>2025-08-22T14:43:30</td>\n",
       "      <td>NaT</td>\n",
       "      <td>None</td>\n",
       "      <td>None</td>\n",
       "    </tr>\n",
       "    <tr>\n",
       "      <th>12050</th>\n",
       "      <td>15316506900722025</td>\n",
       "      <td>1531650690072202500005</td>\n",
       "      <td>24416174000106-1-000103/2025</td>\n",
       "      <td>153165</td>\n",
       "      <td>24416174000106</td>\n",
       "      <td>5</td>\n",
       "      <td>5</td>\n",
       "      <td>0</td>\n",
       "      <td>Tampa Condulete</td>\n",
       "      <td>M</td>\n",
       "      <td>...</td>\n",
       "      <td>Aquisição de materiais de consumo e equipament...</td>\n",
       "      <td>Divulgada no PNCP</td>\n",
       "      <td>Dispensa Com Disputa</td>\n",
       "      <td>4366.30</td>\n",
       "      <td>2025-08-22T14:19:29</td>\n",
       "      <td>2025-08-28 07:59:59</td>\n",
       "      <td>2025-08-22T14:19:30</td>\n",
       "      <td>2025-08-28</td>\n",
       "      <td>07:59:59</td>\n",
       "      <td>28/08/2025</td>\n",
       "    </tr>\n",
       "    <tr>\n",
       "      <th>12051</th>\n",
       "      <td>98556306900682025</td>\n",
       "      <td>9855630690068202500002</td>\n",
       "      <td>95995130000118-1-000108/2025</td>\n",
       "      <td>985563</td>\n",
       "      <td>95995130000118</td>\n",
       "      <td>2</td>\n",
       "      <td>2</td>\n",
       "      <td>0</td>\n",
       "      <td>Confecção - Bordado - Aviamento de Roupa / far...</td>\n",
       "      <td>S</td>\n",
       "      <td>...</td>\n",
       "      <td>Contratação de serviços de confecção de unifor...</td>\n",
       "      <td>Divulgada no PNCP</td>\n",
       "      <td>Dispensa Com Disputa</td>\n",
       "      <td>6244.00</td>\n",
       "      <td>2025-08-22T14:44:52</td>\n",
       "      <td>2025-08-27 07:59:59</td>\n",
       "      <td>2025-08-22T14:44:53</td>\n",
       "      <td>2025-08-27</td>\n",
       "      <td>07:59:59</td>\n",
       "      <td>27/08/2025</td>\n",
       "    </tr>\n",
       "  </tbody>\n",
       "</table>\n",
       "<p>12052 rows × 63 columns</p>\n",
       "</div>"
      ],
      "text/plain": [
       "                idCompra            idCompraItem  \\\n",
       "0      09002807000422025  0900280700042202500001   \n",
       "1      15502106000392025  1550210600039202500001   \n",
       "2      09018306012252025  0901830601225202500001   \n",
       "3      15316405901172025  1531640590117202500004   \n",
       "4      39900805900142025  3990080590014202500001   \n",
       "...                  ...                     ...   \n",
       "12047  15502106000432025  1550210600043202500001   \n",
       "12048  98422306901302025  9842230690130202500001   \n",
       "12049  92517206000572025  9251720600057202500001   \n",
       "12050  15316506900722025  1531650690072202500005   \n",
       "12051  98556306900682025  9855630690068202500002   \n",
       "\n",
       "                  idContratacaoPNCP  unidadeOrgaoCodigoUnidade  \\\n",
       "0      32243347000151-1-000101/2025                      90028   \n",
       "1      15126437000305-1-002263/2025                     155021   \n",
       "2      46374500000194-1-007979/2025                      90183   \n",
       "3      95591764000105-1-000350/2025                     153164   \n",
       "4      49582441000138-1-000034/2025                     399008   \n",
       "...                             ...                        ...   \n",
       "12047  15126437000305-1-002284/2025                     155021   \n",
       "12048  18659334000137-1-000539/2025                     984223   \n",
       "12049  05903125000145-1-000152/2025                     925172   \n",
       "12050  24416174000106-1-000103/2025                     153165   \n",
       "12051  95995130000118-1-000108/2025                     985563   \n",
       "\n",
       "      orgaoEntidadeCnpj  numeroItemPncp  numeroItemCompra  numeroGrupo  \\\n",
       "0        32243347000151               1                 1            0   \n",
       "1        15126437000305               1                 1            0   \n",
       "2        46374500000194               1                 1            0   \n",
       "3        95591764000105               4                 4            0   \n",
       "4        49582441000138               1                 1            0   \n",
       "...                 ...             ...               ...          ...   \n",
       "12047    15126437000305               1                 1            0   \n",
       "12048    18659334000137               1                 1            0   \n",
       "12049    05903125000145               1                 1            0   \n",
       "12050    24416174000106               5                 5            0   \n",
       "12051    95995130000118               2                 2            0   \n",
       "\n",
       "                                       descricaoResumida materialOuServico  \\\n",
       "0      Serviço de acessibilidade à informação e à com...                 S   \n",
       "1      Introdutor Percutâneo tipo: arterial, componen...                 M   \n",
       "2      Avental Procedimento - Paramentação esterilida...                 M   \n",
       "3                                            Memória ram                 M   \n",
       "4      Cessão Temporária de Direitos Sobre Programas ...                 S   \n",
       "...                                                  ...               ...   \n",
       "12047                     Ciclosporina concentração: 100                 M   \n",
       "12048                                        Armário Aço                 M   \n",
       "12049  Locação Sala / Auditório Locação Sala / Auditório                 S   \n",
       "12050                                    Tampa Condulete                 M   \n",
       "12051  Confecção - Bordado - Aviamento de Roupa / far...                 S   \n",
       "\n",
       "       ...                                       objetoCompra  \\\n",
       "0      ...                                                NaN   \n",
       "1      ...  AGENTE EMBOLIZANTE TIPO MICROPARTICULAS DE POL...   \n",
       "2      ...  Aquisição de Avental Descartável, cumprimento ...   \n",
       "3      ...  Registro de preços para aquisição de materiais...   \n",
       "4      ...  Aquisição de licenças, garantia e suporte técn...   \n",
       "...    ...                                                ...   \n",
       "12047  ...                        CICLOSPORINA 100 MG CÁPSULA   \n",
       "12048  ...  Aquisição de móveis e equipamento para atender...   \n",
       "12049  ...  Contratação de Empresa Especializada em Locaçã...   \n",
       "12050  ...  Aquisição de materiais de consumo e equipament...   \n",
       "12051  ...  Contratação de serviços de confecção de unifor...   \n",
       "\n",
       "       situacaoCompraNomePncp   modoDisputaNomePncp  valorTotalEstimado  \\\n",
       "0                         NaN                   NaN                 NaN   \n",
       "1           Divulgada no PNCP         Não se aplica            32400.00   \n",
       "2           Divulgada no PNCP         Não se aplica            18100.00   \n",
       "3           Divulgada no PNCP        Aberto-Fechado           383270.53   \n",
       "4           Divulgada no PNCP                Aberto                0.00   \n",
       "...                       ...                   ...                 ...   \n",
       "12047       Divulgada no PNCP         Não se aplica            38760.00   \n",
       "12048       Divulgada no PNCP  Dispensa Com Disputa            24850.30   \n",
       "12049       Divulgada no PNCP         Não se aplica            16500.00   \n",
       "12050       Divulgada no PNCP  Dispensa Com Disputa             4366.30   \n",
       "12051       Divulgada no PNCP  Dispensa Com Disputa             6244.00   \n",
       "\n",
       "      dataAberturaPropostaPncp dataEncerramentoPropostaPncp  \\\n",
       "0                          NaN                          NaT   \n",
       "1                         None                          NaT   \n",
       "2                         None                          NaT   \n",
       "3          2025-08-22T08:00:00          2025-09-03 09:00:00   \n",
       "4          2025-08-22T08:00:00          2025-09-03 10:00:00   \n",
       "...                        ...                          ...   \n",
       "12047                     None                          NaT   \n",
       "12048      2025-08-22T14:33:50          2025-08-27 07:59:59   \n",
       "12049                     None                          NaT   \n",
       "12050      2025-08-22T14:19:29          2025-08-28 07:59:59   \n",
       "12051      2025-08-22T14:44:52          2025-08-27 07:59:59   \n",
       "\n",
       "        dataInclusaoPncp_y  dataEncerramentoPropostaPncp_data  \\\n",
       "0                      NaN                                NaT   \n",
       "1      2025-08-22T06:50:58                                NaT   \n",
       "2      2025-08-22T06:58:51                                NaT   \n",
       "3      2025-08-22T07:15:37                         2025-09-03   \n",
       "4      2025-08-22T07:15:40                         2025-09-03   \n",
       "...                    ...                                ...   \n",
       "12047  2025-08-22T14:33:09                                NaT   \n",
       "12048  2025-08-22T14:33:51                         2025-08-27   \n",
       "12049  2025-08-22T14:43:30                                NaT   \n",
       "12050  2025-08-22T14:19:30                         2025-08-28   \n",
       "12051  2025-08-22T14:44:53                         2025-08-27   \n",
       "\n",
       "      dataEncerramentoPropostaPncp_hora  dataEncerramentoPropostaPncp_ddmmyyyy  \n",
       "0                                  None                                   None  \n",
       "1                                  None                                   None  \n",
       "2                                  None                                   None  \n",
       "3                              09:00:00                             03/09/2025  \n",
       "4                              10:00:00                             03/09/2025  \n",
       "...                                 ...                                    ...  \n",
       "12047                              None                                   None  \n",
       "12048                          07:59:59                             27/08/2025  \n",
       "12049                              None                                   None  \n",
       "12050                          07:59:59                             28/08/2025  \n",
       "12051                          07:59:59                             27/08/2025  \n",
       "\n",
       "[12052 rows x 63 columns]"
      ]
     },
     "metadata": {},
     "output_type": "display_data"
    }
   ],
   "source": [
    "# Mostra todos os nomes das colunas do DataFrame\n",
    "print(\"Colunas do df_mesclado:\")\n",
    "for col in df_mesclado.columns:\n",
    "    display(col)\n",
    "\n",
    "display(df_mesclado)\n"
   ]
  },
  {
   "cell_type": "code",
   "execution_count": 38,
   "id": "f577c3fd",
   "metadata": {},
   "outputs": [
    {
     "name": "stdout",
     "output_type": "stream",
     "text": [
      "Forma antes da limpeza: 12052 linhas x 32 colunas\n"
     ]
    },
    {
     "name": "stderr",
     "output_type": "stream",
     "text": [
      "C:\\Users\\VitorGiglio\\AppData\\Local\\Temp\\ipykernel_18072\\1475151490.py:42: FutureWarning: DataFrame.applymap has been deprecated. Use DataFrame.map instead.\n",
      "  mask_illegal = df_copia.select_dtypes(include=[\"object\", \"string\"]).applymap(tem_illegal)\n"
     ]
    },
    {
     "name": "stdout",
     "output_type": "stream",
     "text": [
      "⚠️ Detectadas 1 linhas com caracteres inválidos.\n",
      "Relatório salvo em: C:\\Users\\VitorGiglio\\Downloads\\VG\\Python\\Dados\\Dados Tratados\\linhas_com_caracteres_invalidos.csv\n",
      "🧼 Limpeza concluída.\n",
      "📊 Excel exportado com sucesso:\n",
      "C:\\Users\\VitorGiglio\\Downloads\\VG\\Python\\Dados\\Dados Tratados\\Dados_Tratados.xlsx\n",
      "Preview pós-limpeza (primeiras 5 linhas):\n"
     ]
    },
    {
     "data": {
      "text/html": [
       "<div>\n",
       "<style scoped>\n",
       "    .dataframe tbody tr th:only-of-type {\n",
       "        vertical-align: middle;\n",
       "    }\n",
       "\n",
       "    .dataframe tbody tr th {\n",
       "        vertical-align: top;\n",
       "    }\n",
       "\n",
       "    .dataframe thead th {\n",
       "        text-align: right;\n",
       "    }\n",
       "</style>\n",
       "<table border=\"1\" class=\"dataframe\">\n",
       "  <thead>\n",
       "    <tr style=\"text-align: right;\">\n",
       "      <th></th>\n",
       "      <th>descricaoResumida</th>\n",
       "      <th>descricaodetalhada</th>\n",
       "      <th>numeroItemPncp</th>\n",
       "      <th>unidadeOrgaoUfSigla</th>\n",
       "      <th>unidadeMedida</th>\n",
       "      <th>quantidade</th>\n",
       "      <th>valorUnitarioEstimado</th>\n",
       "      <th>valorTotal</th>\n",
       "      <th>valorTotalEstimado</th>\n",
       "      <th>orgaoEntidadeEsferaId</th>\n",
       "      <th>...</th>\n",
       "      <th>unidadeOrgaoNomeUnidade</th>\n",
       "      <th>unidadeOrgaoMunicipioNome</th>\n",
       "      <th>dataInclusaoPncp_y</th>\n",
       "      <th>dataAberturaPropostaPncp</th>\n",
       "      <th>dataEncerramentoPropostaPncp_ddmmyyyy</th>\n",
       "      <th>dataEncerramentoPropostaPncp_hora</th>\n",
       "      <th>unidadeOrgaoCodigoUnidade</th>\n",
       "      <th>numeroCompra</th>\n",
       "      <th>anoCompraPncp</th>\n",
       "      <th>numeroControlePNCPCompra</th>\n",
       "    </tr>\n",
       "  </thead>\n",
       "  <tbody>\n",
       "    <tr>\n",
       "      <th>0</th>\n",
       "      <td>Serviço de acessibilidade à informação e à com...</td>\n",
       "      <td>Serviço de acessibilidade à informação e à com...</td>\n",
       "      <td>1</td>\n",
       "      <td>NaN</td>\n",
       "      <td>UNIDADE</td>\n",
       "      <td>1.0</td>\n",
       "      <td>8400.0000</td>\n",
       "      <td>8400.00</td>\n",
       "      <td>NaN</td>\n",
       "      <td>NaN</td>\n",
       "      <td>...</td>\n",
       "      <td>NaN</td>\n",
       "      <td>NaN</td>\n",
       "      <td>NaN</td>\n",
       "      <td>NaN</td>\n",
       "      <td>None</td>\n",
       "      <td>None</td>\n",
       "      <td>90028</td>\n",
       "      <td>NaN</td>\n",
       "      <td>NaN</td>\n",
       "      <td>32243347000151-1-000101/2025</td>\n",
       "    </tr>\n",
       "    <tr>\n",
       "      <th>1</th>\n",
       "      <td>Introdutor Percutâneo tipo: arterial, componen...</td>\n",
       "      <td>Introdutor Percutâneo tipo: arterial, componen...</td>\n",
       "      <td>1</td>\n",
       "      <td>MG</td>\n",
       "      <td>Unidade</td>\n",
       "      <td>40.0</td>\n",
       "      <td>810.0000</td>\n",
       "      <td>32400.00</td>\n",
       "      <td>32400.00</td>\n",
       "      <td>N</td>\n",
       "      <td>...</td>\n",
       "      <td>HOSPITAL DAS CLÍNICAS DE MINAS GERAIS</td>\n",
       "      <td>BELO HORIZONTE</td>\n",
       "      <td>2025-08-22T06:50:58</td>\n",
       "      <td>None</td>\n",
       "      <td>None</td>\n",
       "      <td>None</td>\n",
       "      <td>155021</td>\n",
       "      <td>39</td>\n",
       "      <td>2025.0</td>\n",
       "      <td>15126437000305-1-002263/2025</td>\n",
       "    </tr>\n",
       "    <tr>\n",
       "      <th>2</th>\n",
       "      <td>Avental Procedimento - Paramentação esterilida...</td>\n",
       "      <td>Avental Procedimento - Paramentação esterilida...</td>\n",
       "      <td>1</td>\n",
       "      <td>SP</td>\n",
       "      <td>Unidade</td>\n",
       "      <td>5000.0</td>\n",
       "      <td>3.6200</td>\n",
       "      <td>18100.00</td>\n",
       "      <td>18100.00</td>\n",
       "      <td>E</td>\n",
       "      <td>...</td>\n",
       "      <td>ESP-INST. INFECTOLOGIA EMILIO RIBAS</td>\n",
       "      <td>SÃO PAULO</td>\n",
       "      <td>2025-08-22T06:58:51</td>\n",
       "      <td>None</td>\n",
       "      <td>None</td>\n",
       "      <td>None</td>\n",
       "      <td>90183</td>\n",
       "      <td>1225</td>\n",
       "      <td>2025.0</td>\n",
       "      <td>46374500000194-1-007979/2025</td>\n",
       "    </tr>\n",
       "    <tr>\n",
       "      <th>3</th>\n",
       "      <td>Memória ram</td>\n",
       "      <td>MEMÓRIA RAM, REFERÊNCIA: CPAC-RAM32GB-19000 , ...</td>\n",
       "      <td>4</td>\n",
       "      <td>RS</td>\n",
       "      <td>Unidade</td>\n",
       "      <td>40.0</td>\n",
       "      <td>987.0373</td>\n",
       "      <td>39481.49</td>\n",
       "      <td>383270.53</td>\n",
       "      <td>F</td>\n",
       "      <td>...</td>\n",
       "      <td>UNIVERSIDADE FEDERAL DE STA.MARIA/RS</td>\n",
       "      <td>SANTA MARIA</td>\n",
       "      <td>2025-08-22T07:15:37</td>\n",
       "      <td>2025-08-22T08:00:00</td>\n",
       "      <td>03/09/2025</td>\n",
       "      <td>09:00:00</td>\n",
       "      <td>153164</td>\n",
       "      <td>90117</td>\n",
       "      <td>2025.0</td>\n",
       "      <td>95591764000105-1-000350/2025</td>\n",
       "    </tr>\n",
       "    <tr>\n",
       "      <th>4</th>\n",
       "      <td>Cessão Temporária de Direitos Sobre Programas ...</td>\n",
       "      <td>None</td>\n",
       "      <td>1</td>\n",
       "      <td>RJ</td>\n",
       "      <td>UNIDADE</td>\n",
       "      <td>1.0</td>\n",
       "      <td>0.0000</td>\n",
       "      <td>0.00</td>\n",
       "      <td>0.00</td>\n",
       "      <td>F</td>\n",
       "      <td>...</td>\n",
       "      <td>PORTOSRIO AUTORIDADE PORTUÁRIA</td>\n",
       "      <td>RIO DE JANEIRO</td>\n",
       "      <td>2025-08-22T07:15:40</td>\n",
       "      <td>2025-08-22T08:00:00</td>\n",
       "      <td>03/09/2025</td>\n",
       "      <td>10:00:00</td>\n",
       "      <td>399008</td>\n",
       "      <td>90014</td>\n",
       "      <td>2025.0</td>\n",
       "      <td>49582441000138-1-000034/2025</td>\n",
       "    </tr>\n",
       "  </tbody>\n",
       "</table>\n",
       "<p>5 rows × 32 columns</p>\n",
       "</div>"
      ],
      "text/plain": [
       "                                   descricaoResumida  \\\n",
       "0  Serviço de acessibilidade à informação e à com...   \n",
       "1  Introdutor Percutâneo tipo: arterial, componen...   \n",
       "2  Avental Procedimento - Paramentação esterilida...   \n",
       "3                                        Memória ram   \n",
       "4  Cessão Temporária de Direitos Sobre Programas ...   \n",
       "\n",
       "                                  descricaodetalhada  numeroItemPncp  \\\n",
       "0  Serviço de acessibilidade à informação e à com...               1   \n",
       "1  Introdutor Percutâneo tipo: arterial, componen...               1   \n",
       "2  Avental Procedimento - Paramentação esterilida...               1   \n",
       "3  MEMÓRIA RAM, REFERÊNCIA: CPAC-RAM32GB-19000 , ...               4   \n",
       "4                                               None               1   \n",
       "\n",
       "  unidadeOrgaoUfSigla unidadeMedida  quantidade  valorUnitarioEstimado  \\\n",
       "0                 NaN       UNIDADE         1.0              8400.0000   \n",
       "1                  MG       Unidade        40.0               810.0000   \n",
       "2                  SP       Unidade      5000.0                 3.6200   \n",
       "3                  RS       Unidade        40.0               987.0373   \n",
       "4                  RJ       UNIDADE         1.0                 0.0000   \n",
       "\n",
       "   valorTotal  valorTotalEstimado orgaoEntidadeEsferaId  ...  \\\n",
       "0     8400.00                 NaN                   NaN  ...   \n",
       "1    32400.00            32400.00                     N  ...   \n",
       "2    18100.00            18100.00                     E  ...   \n",
       "3    39481.49           383270.53                     F  ...   \n",
       "4        0.00                0.00                     F  ...   \n",
       "\n",
       "                 unidadeOrgaoNomeUnidade unidadeOrgaoMunicipioNome  \\\n",
       "0                                    NaN                       NaN   \n",
       "1  HOSPITAL DAS CLÍNICAS DE MINAS GERAIS            BELO HORIZONTE   \n",
       "2    ESP-INST. INFECTOLOGIA EMILIO RIBAS                 SÃO PAULO   \n",
       "3   UNIVERSIDADE FEDERAL DE STA.MARIA/RS               SANTA MARIA   \n",
       "4         PORTOSRIO AUTORIDADE PORTUÁRIA            RIO DE JANEIRO   \n",
       "\n",
       "    dataInclusaoPncp_y dataAberturaPropostaPncp  \\\n",
       "0                  NaN                      NaN   \n",
       "1  2025-08-22T06:50:58                     None   \n",
       "2  2025-08-22T06:58:51                     None   \n",
       "3  2025-08-22T07:15:37      2025-08-22T08:00:00   \n",
       "4  2025-08-22T07:15:40      2025-08-22T08:00:00   \n",
       "\n",
       "  dataEncerramentoPropostaPncp_ddmmyyyy dataEncerramentoPropostaPncp_hora  \\\n",
       "0                                  None                              None   \n",
       "1                                  None                              None   \n",
       "2                                  None                              None   \n",
       "3                            03/09/2025                          09:00:00   \n",
       "4                            03/09/2025                          10:00:00   \n",
       "\n",
       "  unidadeOrgaoCodigoUnidade numeroCompra anoCompraPncp  \\\n",
       "0                     90028          NaN           NaN   \n",
       "1                    155021           39        2025.0   \n",
       "2                     90183         1225        2025.0   \n",
       "3                    153164        90117        2025.0   \n",
       "4                    399008        90014        2025.0   \n",
       "\n",
       "       numeroControlePNCPCompra  \n",
       "0  32243347000151-1-000101/2025  \n",
       "1  15126437000305-1-002263/2025  \n",
       "2  46374500000194-1-007979/2025  \n",
       "3  95591764000105-1-000350/2025  \n",
       "4  49582441000138-1-000034/2025  \n",
       "\n",
       "[5 rows x 32 columns]"
      ]
     },
     "metadata": {},
     "output_type": "display_data"
    },
    {
     "name": "stdout",
     "output_type": "stream",
     "text": [
      "Forma final: 12052 linhas x 32 colunas\n"
     ]
    }
   ],
   "source": [
    "# -*- coding: utf-8 -*-\n",
    "import os\n",
    "import re\n",
    "import pandas as pd\n",
    "\n",
    "# ===========================\n",
    "# 0) Entrada e saída\n",
    "# ===========================\n",
    "CAMINHO_XLSX = r\"C:\\Users\\VitorGiglio\\Downloads\\VG\\Python\\Dados\\Dados Tratados\\Dados_Tratados.xlsx\"\n",
    "CAMINHO_CSV_PROBLEMAS = r\"C:\\Users\\VitorGiglio\\Downloads\\VG\\Python\\Dados\\Dados Tratados\\linhas_com_caracteres_invalidos.csv\"\n",
    "\n",
    "# Garante pasta\n",
    "os.makedirs(os.path.dirname(CAMINHO_XLSX), exist_ok=True)\n",
    "\n",
    "# ===========================\n",
    "# 1) Selecione colunas do seu df original\n",
    "#     (pressupõe df_mesclado já carregado no ambiente)\n",
    "# ===========================\n",
    "colunas = [\n",
    "    'descricaoResumida','descricaodetalhada','numeroItemPncp','unidadeOrgaoUfSigla',\n",
    "    'unidadeMedida','quantidade','valorUnitarioEstimado','valorTotal','valorTotalEstimado',\n",
    "    'orgaoEntidadeEsferaId','codItemCatalogo','modalidadeNome','situacaoCompraItemNome',\n",
    "    'situacaoCompraNomePncp','materialOuServico','unidadeOrgaoMunicipioNome','srp',\n",
    "    'modoDisputaNomePncp','objetoCompra','codigoNCM','orcamentoSigiloso','itemCategoriaNome',\n",
    "    'unidadeOrgaoNomeUnidade','unidadeOrgaoMunicipioNome','dataInclusaoPncp_y',\n",
    "    'dataAberturaPropostaPncp','dataEncerramentoPropostaPncp_ddmmyyyy','dataEncerramentoPropostaPncp_hora','unidadeOrgaoCodigoUnidade',\n",
    "    'numeroCompra','anoCompraPncp','numeroControlePNCPCompra'\n",
    "]\n",
    "df_copia = df_mesclado[colunas].copy()\n",
    "\n",
    "print(f\"Forma antes da limpeza: {df_copia.shape[0]} linhas x {df_copia.shape[1]} colunas\")\n",
    "\n",
    "# ===========================\n",
    "# 2) Diagnóstico de caracteres inválidos para Excel\n",
    "#    (qualquer ASCII de controle \\x00-\\x1F, exceto \\t \\n \\r)\n",
    "# ===========================\n",
    "ILLEGAL_RE = re.compile(r'[\\x00-\\x08\\x0B\\x0C\\x0E-\\x1F]')\n",
    "\n",
    "def tem_illegal(x):\n",
    "    return isinstance(x, str) and bool(ILLEGAL_RE.search(x))\n",
    "\n",
    "mask_illegal = df_copia.select_dtypes(include=[\"object\", \"string\"]).applymap(tem_illegal)\n",
    "linhas_ruins = df_copia[mask_illegal.any(axis=1)]\n",
    "\n",
    "if not linhas_ruins.empty:\n",
    "    # salva uma amostra dos problemas para auditoria\n",
    "    linhas_ruins.to_csv(CAMINHO_CSV_PROBLEMAS, index=False, encoding=\"utf-8-sig\")\n",
    "    print(f\"⚠️ Detectadas {linhas_ruins.shape[0]} linhas com caracteres inválidos.\")\n",
    "    print(f\"Relatório salvo em: {CAMINHO_CSV_PROBLEMAS}\")\n",
    "else:\n",
    "    print(\"✅ Nenhum caractere inválido detectado nas colunas de texto.\")\n",
    "\n",
    "# ===========================\n",
    "# 3) Limpeza para Excel (texto)\n",
    "#    - remove caracteres ilegais\n",
    "#    - normaliza quebras de linha\n",
    "#    - corta acima de 32.767 chars\n",
    "#    - previne injeção de fórmula (= + - @ no início)\n",
    "# ===========================\n",
    "def clean_excel(val):\n",
    "    if pd.isna(val):\n",
    "        return val\n",
    "    s = str(val)\n",
    "    s = ILLEGAL_RE.sub(\" \", s)          # remove controles ASCII\n",
    "    s = re.sub(r'[\\r\\n]+', ' ', s)      # compacta quebras de linha\n",
    "    if len(s) > 32767:                  # limite do Excel por célula\n",
    "        s = s[:32767]\n",
    "    if s[:1] in ('=', '+', '-', '@'):   # evita fórmula\n",
    "        s = \"'\" + s\n",
    "    return s\n",
    "\n",
    "for col in df_copia.select_dtypes(include=[\"object\", \"string\"]).columns:\n",
    "    df_copia[col] = df_copia[col].map(clean_excel)\n",
    "\n",
    "# (Opcional) garantir tipos numéricos em algumas colunas, se desejar:\n",
    "# for c in ['quantidade','valorUnitarioEstimado','valorTotal','valorTotalEstimado','anoCompraPncp']:\n",
    "#     if c in df_copia.columns:\n",
    "#         df_copia[c] = pd.to_numeric(df_copia[c], errors='coerce')\n",
    "\n",
    "print(\"🧼 Limpeza concluída.\")\n",
    "\n",
    "# ===========================\n",
    "# 4) Exportação com fallback\n",
    "# ===========================\n",
    "try:\n",
    "    # preferencial: openpyxl\n",
    "    df_copia.to_excel(CAMINHO_XLSX, index=False, engine=\"openpyxl\")\n",
    "    # aplica formatação de data no Excel para facilitar filtros/visualização (DD/MM/YYYY)\n",
    "    try:\n",
    "        import openpyxl\n",
    "        from openpyxl.utils import get_column_letter\n",
    "\n",
    "        wb = openpyxl.load_workbook(CAMINHO_XLSX)\n",
    "        ws = wb.active\n",
    "\n",
    "        # localiza índice da coluna datetime no df_copia e converte para letra (1-based)\n",
    "        if 'dataEncerramentoPropostaPncp_data' in df_copia.columns:\n",
    "            idx = df_copia.columns.get_loc('dataEncerramentoPropostaPncp_data') + 1\n",
    "            # aplica formato em todas as células desta coluna (exclui cabeçalho)\n",
    "            for row in ws.iter_rows(min_row=2, min_col=idx, max_col=idx, max_row=ws.max_row):\n",
    "                for cell in row:\n",
    "                    cell.number_format = 'DD/MM/YYYY'\n",
    "            wb.save(CAMINHO_XLSX)\n",
    "    except Exception as e_format:\n",
    "        print(\"Aviso: não foi possível aplicar formatação de data no XLSX:\", repr(e_format))\n",
    "\n",
    "    print(f\"📊 Excel exportado com sucesso:\\n{CAMINHO_XLSX}\")\n",
    "except Exception as e:\n",
    "    print(\"❌ Falha no XLSX (openpyxl). Motivo:\", repr(e))\n",
    "    # fallback simples em CSV (abre no Excel normalmente)\n",
    "    caminho_csv = os.path.splitext(CAMINHO_XLSX)[0] + \".csv\"\n",
    "    df_copia.to_csv(caminho_csv, index=False, encoding=\"utf-8-sig\")\n",
    "    print(f\"➡️ Salvo como CSV (fallback):\\n{caminho_csv}\")\n",
    "\n",
    "# ===========================\n",
    "# 5) Verificação final\n",
    "# ===========================\n",
    "print(\"Preview pós-limpeza (primeiras 5 linhas):\")\n",
    "display(df_copia.head(5))\n",
    "print(f\"Forma final: {df_copia.shape[0]} linhas x {df_copia.shape[1]} colunas\")\n"
   ]
  }
 ],
 "metadata": {
  "kernelspec": {
   "display_name": "Python 3",
   "language": "python",
   "name": "python3"
  },
  "language_info": {
   "codemirror_mode": {
    "name": "ipython",
    "version": 3
   },
   "file_extension": ".py",
   "mimetype": "text/x-python",
   "name": "python",
   "nbconvert_exporter": "python",
   "pygments_lexer": "ipython3",
   "version": "3.11.9"
  }
 },
 "nbformat": 4,
 "nbformat_minor": 5
}
