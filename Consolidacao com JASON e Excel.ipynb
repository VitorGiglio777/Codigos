{
 "cells": [
  {
   "cell_type": "code",
   "execution_count": null,
   "id": "d4a78007",
   "metadata": {},
   "outputs": [
    {
     "name": "stderr",
     "output_type": "stream",
     "text": [
      "C:\\Users\\User\\AppData\\Local\\Temp\\ipykernel_17460\\1674240303.py:39: FutureWarning: The behavior of DataFrame concatenation with empty or all-NA entries is deprecated. In a future version, this will no longer exclude empty or all-NA columns when determining the result dtypes. To retain the old behavior, exclude the relevant entries before the concat operation.\n",
      "  df_licitacoes = pd.concat(dfs, ignore_index=True)\n"
     ]
    },
    {
     "data": {
      "text/html": [
       "<div>\n",
       "<style scoped>\n",
       "    .dataframe tbody tr th:only-of-type {\n",
       "        vertical-align: middle;\n",
       "    }\n",
       "\n",
       "    .dataframe tbody tr th {\n",
       "        vertical-align: top;\n",
       "    }\n",
       "\n",
       "    .dataframe thead th {\n",
       "        text-align: right;\n",
       "    }\n",
       "</style>\n",
       "<table border=\"1\" class=\"dataframe\">\n",
       "  <thead>\n",
       "    <tr style=\"text-align: right;\">\n",
       "      <th></th>\n",
       "      <th>idCompra</th>\n",
       "      <th>numeroControlePNCP</th>\n",
       "      <th>anoCompraPncp</th>\n",
       "      <th>sequencialCompraPncp</th>\n",
       "      <th>orgaoEntidadeCnpj</th>\n",
       "      <th>orgaoSubrogadoCnpj</th>\n",
       "      <th>codigoOrgao</th>\n",
       "      <th>orgaoEntidadeRazaoSocial</th>\n",
       "      <th>orgaoSubrogadoRazaoSocial</th>\n",
       "      <th>orgaoEntidadeEsferaId</th>\n",
       "      <th>...</th>\n",
       "      <th>tipoInstrumentoConvocatorioNome</th>\n",
       "      <th>modoDisputaNomePncp</th>\n",
       "      <th>valorTotalEstimado</th>\n",
       "      <th>valorTotalHomologado</th>\n",
       "      <th>dataInclusaoPncp</th>\n",
       "      <th>dataAtualizacaoPncp</th>\n",
       "      <th>dataPublicacaoPncp</th>\n",
       "      <th>dataAberturaPropostaPncp</th>\n",
       "      <th>dataEncerramentoPropostaPncp</th>\n",
       "      <th>contratacaoExcluida</th>\n",
       "    </tr>\n",
       "  </thead>\n",
       "  <tbody>\n",
       "    <tr>\n",
       "      <th>0</th>\n",
       "      <td>45965105900262025</td>\n",
       "      <td>08885100000154-1-000130/2025</td>\n",
       "      <td>2025</td>\n",
       "      <td>130</td>\n",
       "      <td>08885100000154</td>\n",
       "      <td>None</td>\n",
       "      <td>2932</td>\n",
       "      <td>UNIVERSIDADE ESTADUAL DO NORTE DO PARANA</td>\n",
       "      <td>None</td>\n",
       "      <td>E</td>\n",
       "      <td>...</td>\n",
       "      <td>Edital</td>\n",
       "      <td>Aberto</td>\n",
       "      <td>57932.38</td>\n",
       "      <td>NaN</td>\n",
       "      <td>2025-08-18T07:15:00</td>\n",
       "      <td>2025-08-18T07:15:00</td>\n",
       "      <td>2025-08-18T07:15:00</td>\n",
       "      <td>2025-08-18T08:00:00</td>\n",
       "      <td>2025-08-29T09:00:00</td>\n",
       "      <td>False</td>\n",
       "    </tr>\n",
       "    <tr>\n",
       "      <th>1</th>\n",
       "      <td>36410205900092025</td>\n",
       "      <td>33654831000136-1-000022/2025</td>\n",
       "      <td>2025</td>\n",
       "      <td>22</td>\n",
       "      <td>33654831000136</td>\n",
       "      <td>None</td>\n",
       "      <td>80493</td>\n",
       "      <td>CONSELHO NACIONAL DE DESENVOLVIMENTO CIENTIFIC...</td>\n",
       "      <td>None</td>\n",
       "      <td>F</td>\n",
       "      <td>...</td>\n",
       "      <td>Edital</td>\n",
       "      <td>Aberto-Fechado</td>\n",
       "      <td>1238611.19</td>\n",
       "      <td>NaN</td>\n",
       "      <td>2025-08-18T07:03:01</td>\n",
       "      <td>2025-08-18T07:03:01</td>\n",
       "      <td>2025-08-18T07:03:01</td>\n",
       "      <td>2025-08-18T09:30:00</td>\n",
       "      <td>2025-09-01T15:00:00</td>\n",
       "      <td>False</td>\n",
       "    </tr>\n",
       "    <tr>\n",
       "      <th>2</th>\n",
       "      <td>10210505900222025</td>\n",
       "      <td>63025530000104-1-003393/2025</td>\n",
       "      <td>2025</td>\n",
       "      <td>3393</td>\n",
       "      <td>63025530000104</td>\n",
       "      <td>None</td>\n",
       "      <td>38114</td>\n",
       "      <td>UNIVERSIDADE DE SAO PAULO</td>\n",
       "      <td>None</td>\n",
       "      <td>E</td>\n",
       "      <td>...</td>\n",
       "      <td>Edital</td>\n",
       "      <td>Aberto</td>\n",
       "      <td>21759.66</td>\n",
       "      <td>NaN</td>\n",
       "      <td>2025-08-18T07:04:04</td>\n",
       "      <td>2025-08-18T07:04:04</td>\n",
       "      <td>2025-08-18T07:04:04</td>\n",
       "      <td>2025-08-18T08:00:00</td>\n",
       "      <td>2025-09-01T10:00:00</td>\n",
       "      <td>False</td>\n",
       "    </tr>\n",
       "    <tr>\n",
       "      <th>3</th>\n",
       "      <td>92664405900032025</td>\n",
       "      <td>50778851000138-1-000019/2025</td>\n",
       "      <td>2025</td>\n",
       "      <td>19</td>\n",
       "      <td>50778851000138</td>\n",
       "      <td>None</td>\n",
       "      <td>95997</td>\n",
       "      <td>EMPRESA MUNIC DE DESENVOLVIMENTO URBANO RURAL ...</td>\n",
       "      <td>None</td>\n",
       "      <td>N</td>\n",
       "      <td>...</td>\n",
       "      <td>Edital</td>\n",
       "      <td>Aberto</td>\n",
       "      <td>0.00</td>\n",
       "      <td>NaN</td>\n",
       "      <td>2025-08-18T07:02:41</td>\n",
       "      <td>2025-08-18T07:02:41</td>\n",
       "      <td>2025-08-18T07:02:41</td>\n",
       "      <td>2025-08-18T08:00:00</td>\n",
       "      <td>2025-09-08T09:00:00</td>\n",
       "      <td>False</td>\n",
       "    </tr>\n",
       "    <tr>\n",
       "      <th>4</th>\n",
       "      <td>92664405980192025</td>\n",
       "      <td>50778851000138-1-000018/2025</td>\n",
       "      <td>2025</td>\n",
       "      <td>18</td>\n",
       "      <td>50778851000138</td>\n",
       "      <td>None</td>\n",
       "      <td>95997</td>\n",
       "      <td>EMPRESA MUNIC DE DESENVOLVIMENTO URBANO RURAL ...</td>\n",
       "      <td>None</td>\n",
       "      <td>N</td>\n",
       "      <td>...</td>\n",
       "      <td>Edital</td>\n",
       "      <td>Aberto</td>\n",
       "      <td>0.00</td>\n",
       "      <td>NaN</td>\n",
       "      <td>2025-08-18T07:01:55</td>\n",
       "      <td>2025-08-18T07:01:55</td>\n",
       "      <td>2025-08-18T07:01:55</td>\n",
       "      <td>2025-08-18T08:00:00</td>\n",
       "      <td>2025-09-10T09:00:00</td>\n",
       "      <td>False</td>\n",
       "    </tr>\n",
       "  </tbody>\n",
       "</table>\n",
       "<p>5 rows × 52 columns</p>\n",
       "</div>"
      ],
      "text/plain": [
       "            idCompra            numeroControlePNCP  anoCompraPncp  \\\n",
       "0  45965105900262025  08885100000154-1-000130/2025           2025   \n",
       "1  36410205900092025  33654831000136-1-000022/2025           2025   \n",
       "2  10210505900222025  63025530000104-1-003393/2025           2025   \n",
       "3  92664405900032025  50778851000138-1-000019/2025           2025   \n",
       "4  92664405980192025  50778851000138-1-000018/2025           2025   \n",
       "\n",
       "   sequencialCompraPncp orgaoEntidadeCnpj orgaoSubrogadoCnpj  codigoOrgao  \\\n",
       "0                   130    08885100000154               None         2932   \n",
       "1                    22    33654831000136               None        80493   \n",
       "2                  3393    63025530000104               None        38114   \n",
       "3                    19    50778851000138               None        95997   \n",
       "4                    18    50778851000138               None        95997   \n",
       "\n",
       "                            orgaoEntidadeRazaoSocial  \\\n",
       "0           UNIVERSIDADE ESTADUAL DO NORTE DO PARANA   \n",
       "1  CONSELHO NACIONAL DE DESENVOLVIMENTO CIENTIFIC...   \n",
       "2                          UNIVERSIDADE DE SAO PAULO   \n",
       "3  EMPRESA MUNIC DE DESENVOLVIMENTO URBANO RURAL ...   \n",
       "4  EMPRESA MUNIC DE DESENVOLVIMENTO URBANO RURAL ...   \n",
       "\n",
       "  orgaoSubrogadoRazaoSocial orgaoEntidadeEsferaId  ...  \\\n",
       "0                      None                     E  ...   \n",
       "1                      None                     F  ...   \n",
       "2                      None                     E  ...   \n",
       "3                      None                     N  ...   \n",
       "4                      None                     N  ...   \n",
       "\n",
       "  tipoInstrumentoConvocatorioNome modoDisputaNomePncp valorTotalEstimado  \\\n",
       "0                          Edital              Aberto           57932.38   \n",
       "1                          Edital      Aberto-Fechado         1238611.19   \n",
       "2                          Edital              Aberto           21759.66   \n",
       "3                          Edital              Aberto               0.00   \n",
       "4                          Edital              Aberto               0.00   \n",
       "\n",
       "  valorTotalHomologado     dataInclusaoPncp  dataAtualizacaoPncp  \\\n",
       "0                  NaN  2025-08-18T07:15:00  2025-08-18T07:15:00   \n",
       "1                  NaN  2025-08-18T07:03:01  2025-08-18T07:03:01   \n",
       "2                  NaN  2025-08-18T07:04:04  2025-08-18T07:04:04   \n",
       "3                  NaN  2025-08-18T07:02:41  2025-08-18T07:02:41   \n",
       "4                  NaN  2025-08-18T07:01:55  2025-08-18T07:01:55   \n",
       "\n",
       "    dataPublicacaoPncp dataAberturaPropostaPncp dataEncerramentoPropostaPncp  \\\n",
       "0  2025-08-18T07:15:00      2025-08-18T08:00:00          2025-08-29T09:00:00   \n",
       "1  2025-08-18T07:03:01      2025-08-18T09:30:00          2025-09-01T15:00:00   \n",
       "2  2025-08-18T07:04:04      2025-08-18T08:00:00          2025-09-01T10:00:00   \n",
       "3  2025-08-18T07:02:41      2025-08-18T08:00:00          2025-09-08T09:00:00   \n",
       "4  2025-08-18T07:01:55      2025-08-18T08:00:00          2025-09-10T09:00:00   \n",
       "\n",
       "  contratacaoExcluida  \n",
       "0               False  \n",
       "1               False  \n",
       "2               False  \n",
       "3               False  \n",
       "4               False  \n",
       "\n",
       "[5 rows x 52 columns]"
      ]
     },
     "metadata": {},
     "output_type": "display_data"
    },
    {
     "name": "stdout",
     "output_type": "stream",
     "text": [
      "\n",
      "📂 Arquivo: pncp_contratacoes_2025-08-18_a_2025-08-22_mod5.json\n",
      "🔑 Chaves (52): ['idCompra', 'numeroControlePNCP', 'anoCompraPncp', 'sequencialCompraPncp', 'orgaoEntidadeCnpj', 'orgaoSubrogadoCnpj', 'codigoOrgao', 'orgaoEntidadeRazaoSocial', 'orgaoSubrogadoRazaoSocial', 'orgaoEntidadeEsferaId', 'orgaoSubrogadoEsferaId', 'orgaoEntidadePoderId', 'orgaoSubrogadoPoderId', 'unidadeOrgaoCodigoUnidade', 'unidadeSubrogadaCodigoUnidade', 'unidadeOrgaoNomeUnidade', 'unidadeSubrogadaNomeUnidade', 'unidadeOrgaoUfSigla', 'unidadeSubrogadaUfSigla', 'unidadeOrgaoMunicipioNome', 'unidade_subrogada_municipio_nome', 'unidadeOrgaoCodigoIbge', 'unidadeSubrogadaCodigoIbge', 'numeroCompra', 'modalidadeIdPncp', 'codigoModalidade', 'modalidadeNome', 'srp', 'modoDisputaIdPncp', 'codigoModoDisputa', 'amparoLegalCodigoPncp', 'amparoLegalNome', 'amparoLegalDescricao', 'informacaoComplementar', 'processo', 'objetoCompra', 'existeResultado', 'orcamentoSigilosoCodigo', 'orcamentoSigilosoDescricao', 'situacaoCompraIdPncp', 'situacaoCompraNomePncp', 'tipoInstrumentoConvocatorioCodigoPncp', 'tipoInstrumentoConvocatorioNome', 'modoDisputaNomePncp', 'valorTotalEstimado', 'valorTotalHomologado', 'dataInclusaoPncp', 'dataAtualizacaoPncp', 'dataPublicacaoPncp', 'dataAberturaPropostaPncp', 'dataEncerramentoPropostaPncp', 'contratacaoExcluida']\n",
      "\n",
      "📂 Arquivo: pncp_contratacoes_2025-08-18_a_2025-08-22_mod6.json\n",
      "🔑 Chaves (52): ['idCompra', 'numeroControlePNCP', 'anoCompraPncp', 'sequencialCompraPncp', 'orgaoEntidadeCnpj', 'orgaoSubrogadoCnpj', 'codigoOrgao', 'orgaoEntidadeRazaoSocial', 'orgaoSubrogadoRazaoSocial', 'orgaoEntidadeEsferaId', 'orgaoSubrogadoEsferaId', 'orgaoEntidadePoderId', 'orgaoSubrogadoPoderId', 'unidadeOrgaoCodigoUnidade', 'unidadeSubrogadaCodigoUnidade', 'unidadeOrgaoNomeUnidade', 'unidadeSubrogadaNomeUnidade', 'unidadeOrgaoUfSigla', 'unidadeSubrogadaUfSigla', 'unidadeOrgaoMunicipioNome', 'unidade_subrogada_municipio_nome', 'unidadeOrgaoCodigoIbge', 'unidadeSubrogadaCodigoIbge', 'numeroCompra', 'modalidadeIdPncp', 'codigoModalidade', 'modalidadeNome', 'srp', 'modoDisputaIdPncp', 'codigoModoDisputa', 'amparoLegalCodigoPncp', 'amparoLegalNome', 'amparoLegalDescricao', 'informacaoComplementar', 'processo', 'objetoCompra', 'existeResultado', 'orcamentoSigilosoCodigo', 'orcamentoSigilosoDescricao', 'situacaoCompraIdPncp', 'situacaoCompraNomePncp', 'tipoInstrumentoConvocatorioCodigoPncp', 'tipoInstrumentoConvocatorioNome', 'modoDisputaNomePncp', 'valorTotalEstimado', 'valorTotalHomologado', 'dataInclusaoPncp', 'dataAtualizacaoPncp', 'dataPublicacaoPncp', 'dataAberturaPropostaPncp', 'dataEncerramentoPropostaPncp', 'contratacaoExcluida']\n",
      "\n",
      "=== Informações do DataFrame Final ===\n",
      "📊 Total de linhas: 5527\n",
      "📊 Total de colunas: 52\n",
      "\n",
      "🔎 Tipos de dados por coluna:\n",
      "idCompra                                  object\n",
      "numeroControlePNCP                        object\n",
      "anoCompraPncp                              int64\n",
      "sequencialCompraPncp                       int64\n",
      "orgaoEntidadeCnpj                         object\n",
      "orgaoSubrogadoCnpj                        object\n",
      "codigoOrgao                                int64\n",
      "orgaoEntidadeRazaoSocial                  object\n",
      "orgaoSubrogadoRazaoSocial                 object\n",
      "orgaoEntidadeEsferaId                     object\n",
      "orgaoSubrogadoEsferaId                    object\n",
      "orgaoEntidadePoderId                      object\n",
      "orgaoSubrogadoPoderId                     object\n",
      "unidadeOrgaoCodigoUnidade                 object\n",
      "unidadeSubrogadaCodigoUnidade             object\n",
      "unidadeOrgaoNomeUnidade                   object\n",
      "unidadeSubrogadaNomeUnidade               object\n",
      "unidadeOrgaoUfSigla                       object\n",
      "unidadeSubrogadaUfSigla                   object\n",
      "unidadeOrgaoMunicipioNome                 object\n",
      "unidade_subrogada_municipio_nome          object\n",
      "unidadeOrgaoCodigoIbge                     int64\n",
      "unidadeSubrogadaCodigoIbge               float64\n",
      "numeroCompra                              object\n",
      "modalidadeIdPncp                           int64\n",
      "codigoModalidade                           int64\n",
      "modalidadeNome                            object\n",
      "srp                                         bool\n",
      "modoDisputaIdPncp                          int64\n",
      "codigoModoDisputa                          int64\n",
      "amparoLegalCodigoPncp                      int64\n",
      "amparoLegalNome                           object\n",
      "amparoLegalDescricao                      object\n",
      "informacaoComplementar                    object\n",
      "processo                                  object\n",
      "objetoCompra                              object\n",
      "existeResultado                             bool\n",
      "orcamentoSigilosoCodigo                    int64\n",
      "orcamentoSigilosoDescricao                object\n",
      "situacaoCompraIdPncp                       int64\n",
      "situacaoCompraNomePncp                    object\n",
      "tipoInstrumentoConvocatorioCodigoPncp      int64\n",
      "tipoInstrumentoConvocatorioNome           object\n",
      "modoDisputaNomePncp                       object\n",
      "valorTotalEstimado                       float64\n",
      "valorTotalHomologado                     float64\n",
      "dataInclusaoPncp                          object\n",
      "dataAtualizacaoPncp                       object\n",
      "dataPublicacaoPncp                        object\n",
      "dataAberturaPropostaPncp                  object\n",
      "dataEncerramentoPropostaPncp              object\n",
      "contratacaoExcluida                         bool\n",
      "dtype: object\n",
      "\n",
      "📋 Resumo geral (inclui nulos e memória):\n",
      "<class 'pandas.core.frame.DataFrame'>\n",
      "RangeIndex: 5527 entries, 0 to 5526\n",
      "Data columns (total 52 columns):\n",
      " #   Column                                 Non-Null Count  Dtype  \n",
      "---  ------                                 --------------  -----  \n",
      " 0   idCompra                               5527 non-null   object \n",
      " 1   numeroControlePNCP                     5527 non-null   object \n",
      " 2   anoCompraPncp                          5527 non-null   int64  \n",
      " 3   sequencialCompraPncp                   5527 non-null   int64  \n",
      " 4   orgaoEntidadeCnpj                      5527 non-null   object \n",
      " 5   orgaoSubrogadoCnpj                     12 non-null     object \n",
      " 6   codigoOrgao                            5527 non-null   int64  \n",
      " 7   orgaoEntidadeRazaoSocial               5527 non-null   object \n",
      " 8   orgaoSubrogadoRazaoSocial              12 non-null     object \n",
      " 9   orgaoEntidadeEsferaId                  5527 non-null   object \n",
      " 10  orgaoSubrogadoEsferaId                 12 non-null     object \n",
      " 11  orgaoEntidadePoderId                   5527 non-null   object \n",
      " 12  orgaoSubrogadoPoderId                  12 non-null     object \n",
      " 13  unidadeOrgaoCodigoUnidade              5527 non-null   object \n",
      " 14  unidadeSubrogadaCodigoUnidade          12 non-null     object \n",
      " 15  unidadeOrgaoNomeUnidade                5527 non-null   object \n",
      " 16  unidadeSubrogadaNomeUnidade            12 non-null     object \n",
      " 17  unidadeOrgaoUfSigla                    5527 non-null   object \n",
      " 18  unidadeSubrogadaUfSigla                12 non-null     object \n",
      " 19  unidadeOrgaoMunicipioNome              5527 non-null   object \n",
      " 20  unidade_subrogada_municipio_nome       12 non-null     object \n",
      " 21  unidadeOrgaoCodigoIbge                 5527 non-null   int64  \n",
      " 22  unidadeSubrogadaCodigoIbge             12 non-null     float64\n",
      " 23  numeroCompra                           5527 non-null   object \n",
      " 24  modalidadeIdPncp                       5527 non-null   int64  \n",
      " 25  codigoModalidade                       5527 non-null   int64  \n",
      " 26  modalidadeNome                         5527 non-null   object \n",
      " 27  srp                                    5527 non-null   bool   \n",
      " 28  modoDisputaIdPncp                      5527 non-null   int64  \n",
      " 29  codigoModoDisputa                      5527 non-null   int64  \n",
      " 30  amparoLegalCodigoPncp                  5527 non-null   int64  \n",
      " 31  amparoLegalNome                        5527 non-null   object \n",
      " 32  amparoLegalDescricao                   5527 non-null   object \n",
      " 33  informacaoComplementar                 4523 non-null   object \n",
      " 34  processo                               5527 non-null   object \n",
      " 35  objetoCompra                           5527 non-null   object \n",
      " 36  existeResultado                        5527 non-null   bool   \n",
      " 37  orcamentoSigilosoCodigo                5527 non-null   int64  \n",
      " 38  orcamentoSigilosoDescricao             5527 non-null   object \n",
      " 39  situacaoCompraIdPncp                   5527 non-null   int64  \n",
      " 40  situacaoCompraNomePncp                 5527 non-null   object \n",
      " 41  tipoInstrumentoConvocatorioCodigoPncp  5527 non-null   int64  \n",
      " 42  tipoInstrumentoConvocatorioNome        5527 non-null   object \n",
      " 43  modoDisputaNomePncp                    5527 non-null   object \n",
      " 44  valorTotalEstimado                     5527 non-null   float64\n",
      " 45  valorTotalHomologado                   1290 non-null   float64\n",
      " 46  dataInclusaoPncp                       5527 non-null   object \n",
      " 47  dataAtualizacaoPncp                    5527 non-null   object \n",
      " 48  dataPublicacaoPncp                     5527 non-null   object \n",
      " 49  dataAberturaPropostaPncp               4266 non-null   object \n",
      " 50  dataEncerramentoPropostaPncp           4266 non-null   object \n",
      " 51  contratacaoExcluida                    5527 non-null   bool   \n",
      "dtypes: bool(3), float64(3), int64(12), object(34)\n",
      "memory usage: 2.1+ MB\n",
      "None\n"
     ]
    }
   ],
   "source": [
    "import os\n",
    "import json\n",
    "import pandas as pd\n",
    "\n",
    "# Caminho da pasta\n",
    "pasta = r\"C:\\Users\\VitorGiglio\\Downloads\\VG\\Python\\Dados\\Dados Tratados\"\n",
    "\n",
    "# Listar todos os arquivos .json da pasta\n",
    "arquivos = [f for f in os.listdir(pasta) if f.endswith(\".json\")]\n",
    "\n",
    "dfs = []\n",
    "resultado = {}\n",
    "\n",
    "for arquivo in arquivos:\n",
    "    caminho = os.path.join(pasta, arquivo)\n",
    "    try:\n",
    "        with open(caminho, \"r\", encoding=\"utf-8\") as f:\n",
    "            data = json.load(f)\n",
    "\n",
    "        if isinstance(data, dict):\n",
    "            for v in data.values():\n",
    "                if isinstance(v, list):\n",
    "                    df = pd.DataFrame(v)\n",
    "                    break\n",
    "            else:\n",
    "                df = pd.DataFrame([data])\n",
    "        elif isinstance(data, list):\n",
    "            df = pd.DataFrame(data)\n",
    "        else:\n",
    "            continue\n",
    "\n",
    "        resultado[arquivo] = list(df.columns)\n",
    "        dfs.append(df)\n",
    "\n",
    "    except Exception as e:\n",
    "        print(f\"Erro em {arquivo}: {e}\")\n",
    "\n",
    "# Concatenar tudo em um único DataFrame\n",
    "df_licitacoes = pd.concat(dfs, ignore_index=True)\n",
    "\n",
    "# Mostrar as primeiras linhas\n",
    "display(df_licitacoes.head())\n",
    "\n",
    "# Mostrar as chaves identificadas em cada arquivo\n",
    "for arq, chaves in resultado.items():\n",
    "    print(f\"\\n📂 Arquivo: {arq}\")\n",
    "    print(f\"🔑 Chaves ({len(chaves)}): {chaves}\")\n",
    "\n",
    "# -------------------------------\n",
    "# 🔍 Informações do DataFrame final\n",
    "print(\"\\n=== Informações do DataFrame Final ===\")\n",
    "print(f\"📊 Total de linhas: {df_licitacoes.shape[0]}\")\n",
    "print(f\"📊 Total de colunas: {df_licitacoes.shape[1]}\")\n",
    "\n",
    "print(\"\\n🔎 Tipos de dados por coluna:\")\n",
    "print(df_licitacoes.dtypes)\n",
    "\n",
    "print(\"\\n📋 Resumo geral (inclui nulos e memória):\")\n",
    "print(df_licitacoes.info())\n",
    "\n",
    "\n"
   ]
  },
  {
   "cell_type": "code",
   "execution_count": 24,
   "id": "891d93ce",
   "metadata": {},
   "outputs": [
    {
     "data": {
      "text/html": [
       "<div>\n",
       "<style scoped>\n",
       "    .dataframe tbody tr th:only-of-type {\n",
       "        vertical-align: middle;\n",
       "    }\n",
       "\n",
       "    .dataframe tbody tr th {\n",
       "        vertical-align: top;\n",
       "    }\n",
       "\n",
       "    .dataframe thead th {\n",
       "        text-align: right;\n",
       "    }\n",
       "</style>\n",
       "<table border=\"1\" class=\"dataframe\">\n",
       "  <thead>\n",
       "    <tr style=\"text-align: right;\">\n",
       "      <th></th>\n",
       "      <th>idCompra</th>\n",
       "      <th>idCompraItem</th>\n",
       "      <th>idContratacaoPNCP</th>\n",
       "      <th>unidadeOrgaoCodigoUnidade</th>\n",
       "      <th>orgaoEntidadeCnpj</th>\n",
       "      <th>numeroItemPncp</th>\n",
       "      <th>numeroItemCompra</th>\n",
       "      <th>numeroGrupo</th>\n",
       "      <th>descricaoResumida</th>\n",
       "      <th>materialOuServico</th>\n",
       "      <th>...</th>\n",
       "      <th>dataInclusaoPncp</th>\n",
       "      <th>dataAtualizacaoPncp</th>\n",
       "      <th>dataResultado</th>\n",
       "      <th>margemPreferenciaNormal</th>\n",
       "      <th>percentualMargemPreferenciaNormal</th>\n",
       "      <th>margemPreferenciaAdicional</th>\n",
       "      <th>percentualMargemPreferenciaAdicional</th>\n",
       "      <th>codigoNCM</th>\n",
       "      <th>descricaoNCM</th>\n",
       "      <th>numeroControlePNCPCompra</th>\n",
       "    </tr>\n",
       "  </thead>\n",
       "  <tbody>\n",
       "    <tr>\n",
       "      <th>0</th>\n",
       "      <td>15809206000532025</td>\n",
       "      <td>1580920600053202500001</td>\n",
       "      <td>07777800000162-1-000043/2025</td>\n",
       "      <td>158092</td>\n",
       "      <td>07777800000162</td>\n",
       "      <td>1</td>\n",
       "      <td>1</td>\n",
       "      <td>0</td>\n",
       "      <td>Prensa Hidráulica Repuxe abertura ferramenta: ...</td>\n",
       "      <td>M</td>\n",
       "      <td>...</td>\n",
       "      <td>2025-08-18T03:49:21</td>\n",
       "      <td>2025-08-18T03:52:22</td>\n",
       "      <td>2025-08-06 00:00:00.0000000</td>\n",
       "      <td>False</td>\n",
       "      <td>NaN</td>\n",
       "      <td>False</td>\n",
       "      <td>NaN</td>\n",
       "      <td>None</td>\n",
       "      <td>None</td>\n",
       "      <td>07777800000162-1-000043/2025</td>\n",
       "    </tr>\n",
       "    <tr>\n",
       "      <th>1</th>\n",
       "      <td>15591405900422025</td>\n",
       "      <td>1559140590042202500007</td>\n",
       "      <td>15126437000305-1-002164/2025</td>\n",
       "      <td>155914</td>\n",
       "      <td>15126437000305</td>\n",
       "      <td>7</td>\n",
       "      <td>7</td>\n",
       "      <td>0</td>\n",
       "      <td>Solução Padrão</td>\n",
       "      <td>M</td>\n",
       "      <td>...</td>\n",
       "      <td>2025-08-18T07:00:02</td>\n",
       "      <td>2025-08-18T07:00:02</td>\n",
       "      <td>None</td>\n",
       "      <td>False</td>\n",
       "      <td>NaN</td>\n",
       "      <td>False</td>\n",
       "      <td>NaN</td>\n",
       "      <td>None</td>\n",
       "      <td>None</td>\n",
       "      <td>15126437000305-1-002164/2025</td>\n",
       "    </tr>\n",
       "    <tr>\n",
       "      <th>2</th>\n",
       "      <td>15591405900422025</td>\n",
       "      <td>1559140590042202500015</td>\n",
       "      <td>15126437000305-1-002164/2025</td>\n",
       "      <td>155914</td>\n",
       "      <td>15126437000305</td>\n",
       "      <td>15</td>\n",
       "      <td>15</td>\n",
       "      <td>0</td>\n",
       "      <td>Micropipeta</td>\n",
       "      <td>M</td>\n",
       "      <td>...</td>\n",
       "      <td>2025-08-18T07:00:02</td>\n",
       "      <td>2025-08-18T07:00:02</td>\n",
       "      <td>None</td>\n",
       "      <td>False</td>\n",
       "      <td>NaN</td>\n",
       "      <td>False</td>\n",
       "      <td>NaN</td>\n",
       "      <td>None</td>\n",
       "      <td>None</td>\n",
       "      <td>15126437000305-1-002164/2025</td>\n",
       "    </tr>\n",
       "    <tr>\n",
       "      <th>3</th>\n",
       "      <td>15591405900422025</td>\n",
       "      <td>1559140590042202500023</td>\n",
       "      <td>15126437000305-1-002164/2025</td>\n",
       "      <td>155914</td>\n",
       "      <td>15126437000305</td>\n",
       "      <td>23</td>\n",
       "      <td>23</td>\n",
       "      <td>0</td>\n",
       "      <td>Ponteira laboratório</td>\n",
       "      <td>M</td>\n",
       "      <td>...</td>\n",
       "      <td>2025-08-18T07:00:02</td>\n",
       "      <td>2025-08-18T07:00:02</td>\n",
       "      <td>None</td>\n",
       "      <td>False</td>\n",
       "      <td>NaN</td>\n",
       "      <td>False</td>\n",
       "      <td>NaN</td>\n",
       "      <td>None</td>\n",
       "      <td>None</td>\n",
       "      <td>15126437000305-1-002164/2025</td>\n",
       "    </tr>\n",
       "    <tr>\n",
       "      <th>4</th>\n",
       "      <td>15591405900422025</td>\n",
       "      <td>1559140590042202500031</td>\n",
       "      <td>15126437000305-1-002164/2025</td>\n",
       "      <td>155914</td>\n",
       "      <td>15126437000305</td>\n",
       "      <td>31</td>\n",
       "      <td>31</td>\n",
       "      <td>0</td>\n",
       "      <td>Reagente para diagnóstico clínico</td>\n",
       "      <td>M</td>\n",
       "      <td>...</td>\n",
       "      <td>2025-08-18T07:00:02</td>\n",
       "      <td>2025-08-18T07:00:02</td>\n",
       "      <td>None</td>\n",
       "      <td>False</td>\n",
       "      <td>NaN</td>\n",
       "      <td>False</td>\n",
       "      <td>NaN</td>\n",
       "      <td>None</td>\n",
       "      <td>None</td>\n",
       "      <td>15126437000305-1-002164/2025</td>\n",
       "    </tr>\n",
       "  </tbody>\n",
       "</table>\n",
       "<p>5 rows × 45 columns</p>\n",
       "</div>"
      ],
      "text/plain": [
       "            idCompra            idCompraItem             idContratacaoPNCP  \\\n",
       "0  15809206000532025  1580920600053202500001  07777800000162-1-000043/2025   \n",
       "1  15591405900422025  1559140590042202500007  15126437000305-1-002164/2025   \n",
       "2  15591405900422025  1559140590042202500015  15126437000305-1-002164/2025   \n",
       "3  15591405900422025  1559140590042202500023  15126437000305-1-002164/2025   \n",
       "4  15591405900422025  1559140590042202500031  15126437000305-1-002164/2025   \n",
       "\n",
       "   unidadeOrgaoCodigoUnidade orgaoEntidadeCnpj  numeroItemPncp  \\\n",
       "0                     158092    07777800000162               1   \n",
       "1                     155914    15126437000305               7   \n",
       "2                     155914    15126437000305              15   \n",
       "3                     155914    15126437000305              23   \n",
       "4                     155914    15126437000305              31   \n",
       "\n",
       "   numeroItemCompra  numeroGrupo  \\\n",
       "0                 1            0   \n",
       "1                 7            0   \n",
       "2                15            0   \n",
       "3                23            0   \n",
       "4                31            0   \n",
       "\n",
       "                                   descricaoResumida materialOuServico  ...  \\\n",
       "0  Prensa Hidráulica Repuxe abertura ferramenta: ...                 M  ...   \n",
       "1                                     Solução Padrão                 M  ...   \n",
       "2                                        Micropipeta                 M  ...   \n",
       "3                               Ponteira laboratório                 M  ...   \n",
       "4                  Reagente para diagnóstico clínico                 M  ...   \n",
       "\n",
       "      dataInclusaoPncp  dataAtualizacaoPncp                dataResultado  \\\n",
       "0  2025-08-18T03:49:21  2025-08-18T03:52:22  2025-08-06 00:00:00.0000000   \n",
       "1  2025-08-18T07:00:02  2025-08-18T07:00:02                         None   \n",
       "2  2025-08-18T07:00:02  2025-08-18T07:00:02                         None   \n",
       "3  2025-08-18T07:00:02  2025-08-18T07:00:02                         None   \n",
       "4  2025-08-18T07:00:02  2025-08-18T07:00:02                         None   \n",
       "\n",
       "   margemPreferenciaNormal percentualMargemPreferenciaNormal  \\\n",
       "0                    False                               NaN   \n",
       "1                    False                               NaN   \n",
       "2                    False                               NaN   \n",
       "3                    False                               NaN   \n",
       "4                    False                               NaN   \n",
       "\n",
       "  margemPreferenciaAdicional  percentualMargemPreferenciaAdicional  codigoNCM  \\\n",
       "0                      False                                   NaN       None   \n",
       "1                      False                                   NaN       None   \n",
       "2                      False                                   NaN       None   \n",
       "3                      False                                   NaN       None   \n",
       "4                      False                                   NaN       None   \n",
       "\n",
       "  descricaoNCM      numeroControlePNCPCompra  \n",
       "0         None  07777800000162-1-000043/2025  \n",
       "1         None  15126437000305-1-002164/2025  \n",
       "2         None  15126437000305-1-002164/2025  \n",
       "3         None  15126437000305-1-002164/2025  \n",
       "4         None  15126437000305-1-002164/2025  \n",
       "\n",
       "[5 rows x 45 columns]"
      ]
     },
     "metadata": {},
     "output_type": "display_data"
    },
    {
     "name": "stdout",
     "output_type": "stream",
     "text": [
      "\n",
      "📂 Arquivo: pncp_itens_2025-08-18_a_2025-08-22.json\n",
      "🔑 Chaves (45): ['idCompra', 'idCompraItem', 'idContratacaoPNCP', 'unidadeOrgaoCodigoUnidade', 'orgaoEntidadeCnpj', 'numeroItemPncp', 'numeroItemCompra', 'numeroGrupo', 'descricaoResumida', 'materialOuServico', 'materialOuServicoNome', 'codigoClasse', 'codigoGrupo', 'codItemCatalogo', 'descricaodetalhada', 'unidadeMedida', 'orcamentoSigiloso', 'itemCategoriaIdPncp', 'itemCategoriaNome', 'criterioJulgamentoIdPncp', 'criterioJulgamentoNome', 'situacaoCompraItem', 'situacaoCompraItemNome', 'tipoBeneficio', 'tipoBeneficioNome', 'incentivoProdutivoBasico', 'quantidade', 'valorUnitarioEstimado', 'valorTotal', 'temResultado', 'codFornecedor', 'nomeFornecedor', 'quantidadeResultado', 'valorUnitarioResultado', 'valorTotalResultado', 'dataInclusaoPncp', 'dataAtualizacaoPncp', 'dataResultado', 'margemPreferenciaNormal', 'percentualMargemPreferenciaNormal', 'margemPreferenciaAdicional', 'percentualMargemPreferenciaAdicional', 'codigoNCM', 'descricaoNCM', 'numeroControlePNCPCompra']\n",
      "\n",
      "=== Informações do DataFrame Final ===\n",
      "📊 Total de linhas: 64928\n",
      "📊 Total de colunas: 45\n",
      "\n",
      "🔎 Tipos de dados por coluna:\n",
      "idCompra                                 object\n",
      "idCompraItem                             object\n",
      "idContratacaoPNCP                        object\n",
      "unidadeOrgaoCodigoUnidade                 int64\n",
      "orgaoEntidadeCnpj                        object\n",
      "numeroItemPncp                            int64\n",
      "numeroItemCompra                          int64\n",
      "numeroGrupo                               int64\n",
      "descricaoResumida                        object\n",
      "materialOuServico                        object\n",
      "materialOuServicoNome                    object\n",
      "codigoClasse                            float64\n",
      "codigoGrupo                             float64\n",
      "codItemCatalogo                         float64\n",
      "descricaodetalhada                       object\n",
      "unidadeMedida                            object\n",
      "orcamentoSigiloso                          bool\n",
      "itemCategoriaIdPncp                       int64\n",
      "itemCategoriaNome                        object\n",
      "criterioJulgamentoIdPncp                  int64\n",
      "criterioJulgamentoNome                   object\n",
      "situacaoCompraItem                       object\n",
      "situacaoCompraItemNome                   object\n",
      "tipoBeneficio                            object\n",
      "tipoBeneficioNome                        object\n",
      "incentivoProdutivoBasico                   bool\n",
      "quantidade                              float64\n",
      "valorUnitarioEstimado                   float64\n",
      "valorTotal                              float64\n",
      "temResultado                             object\n",
      "codFornecedor                            object\n",
      "nomeFornecedor                           object\n",
      "quantidadeResultado                     float64\n",
      "valorUnitarioResultado                  float64\n",
      "valorTotalResultado                     float64\n",
      "dataInclusaoPncp                         object\n",
      "dataAtualizacaoPncp                      object\n",
      "dataResultado                            object\n",
      "margemPreferenciaNormal                    bool\n",
      "percentualMargemPreferenciaNormal       float64\n",
      "margemPreferenciaAdicional                 bool\n",
      "percentualMargemPreferenciaAdicional    float64\n",
      "codigoNCM                                object\n",
      "descricaoNCM                             object\n",
      "numeroControlePNCPCompra                 object\n",
      "dtype: object\n",
      "\n",
      "📋 Resumo geral (inclui nulos e memória):\n",
      "<class 'pandas.core.frame.DataFrame'>\n",
      "RangeIndex: 64928 entries, 0 to 64927\n",
      "Data columns (total 45 columns):\n",
      " #   Column                                Non-Null Count  Dtype  \n",
      "---  ------                                --------------  -----  \n",
      " 0   idCompra                              64928 non-null  object \n",
      " 1   idCompraItem                          64928 non-null  object \n",
      " 2   idContratacaoPNCP                     64928 non-null  object \n",
      " 3   unidadeOrgaoCodigoUnidade             64928 non-null  int64  \n",
      " 4   orgaoEntidadeCnpj                     64928 non-null  object \n",
      " 5   numeroItemPncp                        64928 non-null  int64  \n",
      " 6   numeroItemCompra                      64928 non-null  int64  \n",
      " 7   numeroGrupo                           64928 non-null  int64  \n",
      " 8   descricaoResumida                     64928 non-null  object \n",
      " 9   materialOuServico                     64928 non-null  object \n",
      " 10  materialOuServicoNome                 64928 non-null  object \n",
      " 11  codigoClasse                          3992 non-null   float64\n",
      " 12  codigoGrupo                           3644 non-null   float64\n",
      " 13  codItemCatalogo                       7636 non-null   float64\n",
      " 14  descricaodetalhada                    7636 non-null   object \n",
      " 15  unidadeMedida                         64928 non-null  object \n",
      " 16  orcamentoSigiloso                     64928 non-null  bool   \n",
      " 17  itemCategoriaIdPncp                   64928 non-null  int64  \n",
      " 18  itemCategoriaNome                     64928 non-null  object \n",
      " 19  criterioJulgamentoIdPncp              64928 non-null  int64  \n",
      " 20  criterioJulgamentoNome                64928 non-null  object \n",
      " 21  situacaoCompraItem                    64928 non-null  object \n",
      " 22  situacaoCompraItemNome                64928 non-null  object \n",
      " 23  tipoBeneficio                         64928 non-null  object \n",
      " 24  tipoBeneficioNome                     64928 non-null  object \n",
      " 25  incentivoProdutivoBasico              64928 non-null  bool   \n",
      " 26  quantidade                            64928 non-null  float64\n",
      " 27  valorUnitarioEstimado                 64928 non-null  float64\n",
      " 28  valorTotal                            64928 non-null  float64\n",
      " 29  temResultado                          7640 non-null   object \n",
      " 30  codFornecedor                         7649 non-null   object \n",
      " 31  nomeFornecedor                        7649 non-null   object \n",
      " 32  quantidadeResultado                   7649 non-null   float64\n",
      " 33  valorUnitarioResultado                7649 non-null   float64\n",
      " 34  valorTotalResultado                   7649 non-null   float64\n",
      " 35  dataInclusaoPncp                      64928 non-null  object \n",
      " 36  dataAtualizacaoPncp                   64928 non-null  object \n",
      " 37  dataResultado                         7649 non-null   object \n",
      " 38  margemPreferenciaNormal               64928 non-null  bool   \n",
      " 39  percentualMargemPreferenciaNormal     327 non-null    float64\n",
      " 40  margemPreferenciaAdicional            64928 non-null  bool   \n",
      " 41  percentualMargemPreferenciaAdicional  174 non-null    float64\n",
      " 42  codigoNCM                             8929 non-null   object \n",
      " 43  descricaoNCM                          0 non-null      object \n",
      " 44  numeroControlePNCPCompra              64928 non-null  object \n",
      "dtypes: bool(4), float64(11), int64(6), object(24)\n",
      "memory usage: 20.6+ MB\n",
      "None\n"
     ]
    }
   ],
   "source": [
    "import os\n",
    "import json\n",
    "import pandas as pd\n",
    "\n",
    "# Caminho da pasta\n",
    "pasta = r\"C:\\Users\\User\\Downloads\\Horom\\Empresas\\Horon Licitações\\2 - Dados\\3 - Itens\"\n",
    "\n",
    "# Listar todos os arquivos .json da pasta\n",
    "arquivos = [f for f in os.listdir(pasta) if f.endswith(\".json\")]\n",
    "\n",
    "dfs = []\n",
    "resultado = {}\n",
    "\n",
    "for arquivo in arquivos:\n",
    "    caminho = os.path.join(pasta, arquivo)\n",
    "    try:\n",
    "        with open(caminho, \"r\", encoding=\"utf-8\") as f:\n",
    "            data = json.load(f)\n",
    "\n",
    "        if isinstance(data, dict):\n",
    "            for v in data.values():\n",
    "                if isinstance(v, list):\n",
    "                    df = pd.DataFrame(v)\n",
    "                    break\n",
    "            else:\n",
    "                df = pd.DataFrame([data])\n",
    "        elif isinstance(data, list):\n",
    "            df = pd.DataFrame(data)\n",
    "        else:\n",
    "            continue\n",
    "\n",
    "        resultado[arquivo] = list(df.columns)\n",
    "        dfs.append(df)\n",
    "\n",
    "    except Exception as e:\n",
    "        print(f\"Erro em {arquivo}: {e}\")\n",
    "\n",
    "# Concatenar tudo em um único DataFrame\n",
    "df_itens = pd.concat(dfs, ignore_index=True)\n",
    "\n",
    "# Mostrar as primeiras linhas\n",
    "display(df_itens.head())\n",
    "\n",
    "# Mostrar as chaves identificadas em cada arquivo\n",
    "for arq, chaves in resultado.items():\n",
    "    print(f\"\\n📂 Arquivo: {arq}\")\n",
    "    print(f\"🔑 Chaves ({len(chaves)}): {chaves}\")\n",
    "\n",
    "# -------------------------------\n",
    "# 🔍 Informações do DataFrame final\n",
    "print(\"\\n=== Informações do DataFrame Final ===\")\n",
    "print(f\"📊 Total de linhas: {df_itens.shape[0]}\")\n",
    "print(f\"📊 Total de colunas: {df_itens.shape[1]}\")\n",
    "\n",
    "print(\"\\n🔎 Tipos de dados por coluna:\")\n",
    "print(df_itens.dtypes)\n",
    "\n",
    "print(\"\\n📋 Resumo geral (inclui nulos e memória):\")\n",
    "print(df_itens.info())\n"
   ]
  },
  {
   "cell_type": "code",
   "execution_count": 25,
   "id": "378e5118",
   "metadata": {},
   "outputs": [
    {
     "name": "stdout",
     "output_type": "stream",
     "text": [
      "Linhas sem correspondência: 3407\n"
     ]
    }
   ],
   "source": [
    "# Cópias para não alterar os originais\n",
    "itens = df_itens.copy()\n",
    "lic   = df_licitacoes.copy()\n",
    "\n",
    "# Padroniza nomes de colunas (remove espaços extras)\n",
    "itens.columns = itens.columns.str.strip()\n",
    "lic.columns   = lic.columns.str.strip()\n",
    "\n",
    "# Cria chave de junção padronizada (string e sem espaços)\n",
    "itens['_join_key'] = itens['idContratacaoPNCP'].astype(str).str.strip()\n",
    "lic['_join_key']   = lic['numeroControlePNCP'].astype(str).str.strip()\n",
    "\n",
    "# Mantém apenas as colunas necessárias do df_licitacoes\n",
    "lic_slim = lic[['_join_key', 'anoCompraPncp','orgaoEntidadeEsferaId','unidadeOrgaoNomeUnidade','unidadeOrgaoUfSigla','unidadeOrgaoMunicipioNome','numeroCompra','modalidadeNome','srp','objetoCompra','situacaoCompraNomePncp','modoDisputaNomePncp','valorTotalEstimado','dataAberturaPropostaPncp','dataEncerramentoPropostaPncp','dataInclusaoPncp']].drop_duplicates('_join_key')\n",
    "\n",
    "# Faz o merge (left join)\n",
    "df_mesclado = itens.merge(lic_slim, on='_join_key', how='left').drop(columns=['_join_key'])\n",
    "\n",
    "# Diagnóstico opcional\n",
    "na_sem_match = df_mesclado['anoCompraPncp'].isna().sum()\n",
    "print(f'Linhas sem correspondência: {na_sem_match}')\n"
   ]
  },
  {
   "cell_type": "code",
   "execution_count": 26,
   "id": "4f52790b",
   "metadata": {},
   "outputs": [
    {
     "name": "stdout",
     "output_type": "stream",
     "text": [
      "Colunas do df_mesclado:\n"
     ]
    },
    {
     "data": {
      "text/plain": [
       "'idCompra'"
      ]
     },
     "metadata": {},
     "output_type": "display_data"
    },
    {
     "data": {
      "text/plain": [
       "'idCompraItem'"
      ]
     },
     "metadata": {},
     "output_type": "display_data"
    },
    {
     "data": {
      "text/plain": [
       "'idContratacaoPNCP'"
      ]
     },
     "metadata": {},
     "output_type": "display_data"
    },
    {
     "data": {
      "text/plain": [
       "'unidadeOrgaoCodigoUnidade'"
      ]
     },
     "metadata": {},
     "output_type": "display_data"
    },
    {
     "data": {
      "text/plain": [
       "'orgaoEntidadeCnpj'"
      ]
     },
     "metadata": {},
     "output_type": "display_data"
    },
    {
     "data": {
      "text/plain": [
       "'numeroItemPncp'"
      ]
     },
     "metadata": {},
     "output_type": "display_data"
    },
    {
     "data": {
      "text/plain": [
       "'numeroItemCompra'"
      ]
     },
     "metadata": {},
     "output_type": "display_data"
    },
    {
     "data": {
      "text/plain": [
       "'numeroGrupo'"
      ]
     },
     "metadata": {},
     "output_type": "display_data"
    },
    {
     "data": {
      "text/plain": [
       "'descricaoResumida'"
      ]
     },
     "metadata": {},
     "output_type": "display_data"
    },
    {
     "data": {
      "text/plain": [
       "'materialOuServico'"
      ]
     },
     "metadata": {},
     "output_type": "display_data"
    },
    {
     "data": {
      "text/plain": [
       "'materialOuServicoNome'"
      ]
     },
     "metadata": {},
     "output_type": "display_data"
    },
    {
     "data": {
      "text/plain": [
       "'codigoClasse'"
      ]
     },
     "metadata": {},
     "output_type": "display_data"
    },
    {
     "data": {
      "text/plain": [
       "'codigoGrupo'"
      ]
     },
     "metadata": {},
     "output_type": "display_data"
    },
    {
     "data": {
      "text/plain": [
       "'codItemCatalogo'"
      ]
     },
     "metadata": {},
     "output_type": "display_data"
    },
    {
     "data": {
      "text/plain": [
       "'descricaodetalhada'"
      ]
     },
     "metadata": {},
     "output_type": "display_data"
    },
    {
     "data": {
      "text/plain": [
       "'unidadeMedida'"
      ]
     },
     "metadata": {},
     "output_type": "display_data"
    },
    {
     "data": {
      "text/plain": [
       "'orcamentoSigiloso'"
      ]
     },
     "metadata": {},
     "output_type": "display_data"
    },
    {
     "data": {
      "text/plain": [
       "'itemCategoriaIdPncp'"
      ]
     },
     "metadata": {},
     "output_type": "display_data"
    },
    {
     "data": {
      "text/plain": [
       "'itemCategoriaNome'"
      ]
     },
     "metadata": {},
     "output_type": "display_data"
    },
    {
     "data": {
      "text/plain": [
       "'criterioJulgamentoIdPncp'"
      ]
     },
     "metadata": {},
     "output_type": "display_data"
    },
    {
     "data": {
      "text/plain": [
       "'criterioJulgamentoNome'"
      ]
     },
     "metadata": {},
     "output_type": "display_data"
    },
    {
     "data": {
      "text/plain": [
       "'situacaoCompraItem'"
      ]
     },
     "metadata": {},
     "output_type": "display_data"
    },
    {
     "data": {
      "text/plain": [
       "'situacaoCompraItemNome'"
      ]
     },
     "metadata": {},
     "output_type": "display_data"
    },
    {
     "data": {
      "text/plain": [
       "'tipoBeneficio'"
      ]
     },
     "metadata": {},
     "output_type": "display_data"
    },
    {
     "data": {
      "text/plain": [
       "'tipoBeneficioNome'"
      ]
     },
     "metadata": {},
     "output_type": "display_data"
    },
    {
     "data": {
      "text/plain": [
       "'incentivoProdutivoBasico'"
      ]
     },
     "metadata": {},
     "output_type": "display_data"
    },
    {
     "data": {
      "text/plain": [
       "'quantidade'"
      ]
     },
     "metadata": {},
     "output_type": "display_data"
    },
    {
     "data": {
      "text/plain": [
       "'valorUnitarioEstimado'"
      ]
     },
     "metadata": {},
     "output_type": "display_data"
    },
    {
     "data": {
      "text/plain": [
       "'valorTotal'"
      ]
     },
     "metadata": {},
     "output_type": "display_data"
    },
    {
     "data": {
      "text/plain": [
       "'temResultado'"
      ]
     },
     "metadata": {},
     "output_type": "display_data"
    },
    {
     "data": {
      "text/plain": [
       "'codFornecedor'"
      ]
     },
     "metadata": {},
     "output_type": "display_data"
    },
    {
     "data": {
      "text/plain": [
       "'nomeFornecedor'"
      ]
     },
     "metadata": {},
     "output_type": "display_data"
    },
    {
     "data": {
      "text/plain": [
       "'quantidadeResultado'"
      ]
     },
     "metadata": {},
     "output_type": "display_data"
    },
    {
     "data": {
      "text/plain": [
       "'valorUnitarioResultado'"
      ]
     },
     "metadata": {},
     "output_type": "display_data"
    },
    {
     "data": {
      "text/plain": [
       "'valorTotalResultado'"
      ]
     },
     "metadata": {},
     "output_type": "display_data"
    },
    {
     "data": {
      "text/plain": [
       "'dataInclusaoPncp_x'"
      ]
     },
     "metadata": {},
     "output_type": "display_data"
    },
    {
     "data": {
      "text/plain": [
       "'dataAtualizacaoPncp'"
      ]
     },
     "metadata": {},
     "output_type": "display_data"
    },
    {
     "data": {
      "text/plain": [
       "'dataResultado'"
      ]
     },
     "metadata": {},
     "output_type": "display_data"
    },
    {
     "data": {
      "text/plain": [
       "'margemPreferenciaNormal'"
      ]
     },
     "metadata": {},
     "output_type": "display_data"
    },
    {
     "data": {
      "text/plain": [
       "'percentualMargemPreferenciaNormal'"
      ]
     },
     "metadata": {},
     "output_type": "display_data"
    },
    {
     "data": {
      "text/plain": [
       "'margemPreferenciaAdicional'"
      ]
     },
     "metadata": {},
     "output_type": "display_data"
    },
    {
     "data": {
      "text/plain": [
       "'percentualMargemPreferenciaAdicional'"
      ]
     },
     "metadata": {},
     "output_type": "display_data"
    },
    {
     "data": {
      "text/plain": [
       "'codigoNCM'"
      ]
     },
     "metadata": {},
     "output_type": "display_data"
    },
    {
     "data": {
      "text/plain": [
       "'descricaoNCM'"
      ]
     },
     "metadata": {},
     "output_type": "display_data"
    },
    {
     "data": {
      "text/plain": [
       "'numeroControlePNCPCompra'"
      ]
     },
     "metadata": {},
     "output_type": "display_data"
    },
    {
     "data": {
      "text/plain": [
       "'anoCompraPncp'"
      ]
     },
     "metadata": {},
     "output_type": "display_data"
    },
    {
     "data": {
      "text/plain": [
       "'orgaoEntidadeEsferaId'"
      ]
     },
     "metadata": {},
     "output_type": "display_data"
    },
    {
     "data": {
      "text/plain": [
       "'unidadeOrgaoNomeUnidade'"
      ]
     },
     "metadata": {},
     "output_type": "display_data"
    },
    {
     "data": {
      "text/plain": [
       "'unidadeOrgaoUfSigla'"
      ]
     },
     "metadata": {},
     "output_type": "display_data"
    },
    {
     "data": {
      "text/plain": [
       "'unidadeOrgaoMunicipioNome'"
      ]
     },
     "metadata": {},
     "output_type": "display_data"
    },
    {
     "data": {
      "text/plain": [
       "'numeroCompra'"
      ]
     },
     "metadata": {},
     "output_type": "display_data"
    },
    {
     "data": {
      "text/plain": [
       "'modalidadeNome'"
      ]
     },
     "metadata": {},
     "output_type": "display_data"
    },
    {
     "data": {
      "text/plain": [
       "'srp'"
      ]
     },
     "metadata": {},
     "output_type": "display_data"
    },
    {
     "data": {
      "text/plain": [
       "'objetoCompra'"
      ]
     },
     "metadata": {},
     "output_type": "display_data"
    },
    {
     "data": {
      "text/plain": [
       "'situacaoCompraNomePncp'"
      ]
     },
     "metadata": {},
     "output_type": "display_data"
    },
    {
     "data": {
      "text/plain": [
       "'modoDisputaNomePncp'"
      ]
     },
     "metadata": {},
     "output_type": "display_data"
    },
    {
     "data": {
      "text/plain": [
       "'valorTotalEstimado'"
      ]
     },
     "metadata": {},
     "output_type": "display_data"
    },
    {
     "data": {
      "text/plain": [
       "'dataAberturaPropostaPncp'"
      ]
     },
     "metadata": {},
     "output_type": "display_data"
    },
    {
     "data": {
      "text/plain": [
       "'dataEncerramentoPropostaPncp'"
      ]
     },
     "metadata": {},
     "output_type": "display_data"
    },
    {
     "data": {
      "text/plain": [
       "'dataInclusaoPncp_y'"
      ]
     },
     "metadata": {},
     "output_type": "display_data"
    }
   ],
   "source": [
    "# Mostra todos os nomes das colunas do DataFrame\n",
    "print(\"Colunas do df_mesclado:\")\n",
    "for col in df_mesclado.columns:\n",
    "    display(col)\n"
   ]
  },
  {
   "cell_type": "code",
   "execution_count": 27,
   "id": "f577c3fd",
   "metadata": {},
   "outputs": [
    {
     "name": "stdout",
     "output_type": "stream",
     "text": [
      "Forma antes da limpeza: 64928 linhas x 31 colunas\n"
     ]
    },
    {
     "name": "stderr",
     "output_type": "stream",
     "text": [
      "C:\\Users\\User\\AppData\\Local\\Temp\\ipykernel_17460\\505600941.py:42: FutureWarning: DataFrame.applymap has been deprecated. Use DataFrame.map instead.\n",
      "  mask_illegal = df_copia.select_dtypes(include=[\"object\", \"string\"]).applymap(tem_illegal)\n"
     ]
    },
    {
     "name": "stdout",
     "output_type": "stream",
     "text": [
      "⚠️ Detectadas 2 linhas com caracteres inválidos.\n",
      "Relatório salvo em: C:\\Users\\User\\Downloads\\Horom\\Empresas\\Horon Licitações\\2 - Dados\\4 - Dados Tratados\\linhas_com_caracteres_invalidos.csv\n",
      "🧼 Limpeza concluída.\n",
      "📊 Excel exportado com sucesso:\n",
      "C:\\Users\\User\\Downloads\\Horom\\Empresas\\Horon Licitações\\2 - Dados\\4 - Dados Tratados\\Dados_Tratados.xlsx\n",
      "Preview pós-limpeza (primeiras 5 linhas):\n"
     ]
    },
    {
     "data": {
      "text/html": [
       "<div>\n",
       "<style scoped>\n",
       "    .dataframe tbody tr th:only-of-type {\n",
       "        vertical-align: middle;\n",
       "    }\n",
       "\n",
       "    .dataframe tbody tr th {\n",
       "        vertical-align: top;\n",
       "    }\n",
       "\n",
       "    .dataframe thead th {\n",
       "        text-align: right;\n",
       "    }\n",
       "</style>\n",
       "<table border=\"1\" class=\"dataframe\">\n",
       "  <thead>\n",
       "    <tr style=\"text-align: right;\">\n",
       "      <th></th>\n",
       "      <th>descricaoResumida</th>\n",
       "      <th>descricaodetalhada</th>\n",
       "      <th>numeroItemPncp</th>\n",
       "      <th>unidadeOrgaoUfSigla</th>\n",
       "      <th>unidadeMedida</th>\n",
       "      <th>quantidade</th>\n",
       "      <th>valorUnitarioEstimado</th>\n",
       "      <th>valorTotal</th>\n",
       "      <th>valorTotalEstimado</th>\n",
       "      <th>orgaoEntidadeEsferaId</th>\n",
       "      <th>...</th>\n",
       "      <th>itemCategoriaNome</th>\n",
       "      <th>unidadeOrgaoNomeUnidade</th>\n",
       "      <th>unidadeOrgaoMunicipioNome</th>\n",
       "      <th>dataInclusaoPncp_y</th>\n",
       "      <th>dataAberturaPropostaPncp</th>\n",
       "      <th>dataEncerramentoPropostaPncp</th>\n",
       "      <th>unidadeOrgaoCodigoUnidade</th>\n",
       "      <th>numeroCompra</th>\n",
       "      <th>anoCompraPncp</th>\n",
       "      <th>numeroControlePNCPCompra</th>\n",
       "    </tr>\n",
       "  </thead>\n",
       "  <tbody>\n",
       "    <tr>\n",
       "      <th>0</th>\n",
       "      <td>Prensa Hidráulica Repuxe abertura ferramenta: ...</td>\n",
       "      <td>Prensa Hidráulica Repuxe abertura ferramenta: ...</td>\n",
       "      <td>1</td>\n",
       "      <td>BA</td>\n",
       "      <td>Unidade</td>\n",
       "      <td>1.0</td>\n",
       "      <td>30000.0</td>\n",
       "      <td>30000.0</td>\n",
       "      <td>30000.0</td>\n",
       "      <td>F</td>\n",
       "      <td>...</td>\n",
       "      <td>Informática (TIC)</td>\n",
       "      <td>UNIVERSIDADE FEDERAL DO RECÔNCAVO DA BAHIA</td>\n",
       "      <td>CRUZ DAS ALMAS</td>\n",
       "      <td>2025-08-18T03:49:21</td>\n",
       "      <td>None</td>\n",
       "      <td>None</td>\n",
       "      <td>158092</td>\n",
       "      <td>53</td>\n",
       "      <td>2025.0</td>\n",
       "      <td>07777800000162-1-000043/2025</td>\n",
       "    </tr>\n",
       "    <tr>\n",
       "      <th>1</th>\n",
       "      <td>Solução Padrão</td>\n",
       "      <td>None</td>\n",
       "      <td>7</td>\n",
       "      <td>PB</td>\n",
       "      <td>Frasco 300,00 ML</td>\n",
       "      <td>700.0</td>\n",
       "      <td>0.0</td>\n",
       "      <td>0.0</td>\n",
       "      <td>0.0</td>\n",
       "      <td>N</td>\n",
       "      <td>...</td>\n",
       "      <td>Informática (TIC)</td>\n",
       "      <td>EBSERH - FILIAL HOSP UNIV ALCIDES CARNEIRO</td>\n",
       "      <td>CAMPINA GRANDE</td>\n",
       "      <td>2025-08-18T07:00:02</td>\n",
       "      <td>2025-08-18T08:00:00</td>\n",
       "      <td>2025-08-28T09:00:00</td>\n",
       "      <td>155914</td>\n",
       "      <td>90042</td>\n",
       "      <td>2025.0</td>\n",
       "      <td>15126437000305-1-002164/2025</td>\n",
       "    </tr>\n",
       "    <tr>\n",
       "      <th>2</th>\n",
       "      <td>Micropipeta</td>\n",
       "      <td>None</td>\n",
       "      <td>15</td>\n",
       "      <td>PB</td>\n",
       "      <td>Unidade</td>\n",
       "      <td>3.0</td>\n",
       "      <td>0.0</td>\n",
       "      <td>0.0</td>\n",
       "      <td>0.0</td>\n",
       "      <td>N</td>\n",
       "      <td>...</td>\n",
       "      <td>Informática (TIC)</td>\n",
       "      <td>EBSERH - FILIAL HOSP UNIV ALCIDES CARNEIRO</td>\n",
       "      <td>CAMPINA GRANDE</td>\n",
       "      <td>2025-08-18T07:00:02</td>\n",
       "      <td>2025-08-18T08:00:00</td>\n",
       "      <td>2025-08-28T09:00:00</td>\n",
       "      <td>155914</td>\n",
       "      <td>90042</td>\n",
       "      <td>2025.0</td>\n",
       "      <td>15126437000305-1-002164/2025</td>\n",
       "    </tr>\n",
       "    <tr>\n",
       "      <th>3</th>\n",
       "      <td>Ponteira laboratório</td>\n",
       "      <td>None</td>\n",
       "      <td>23</td>\n",
       "      <td>PB</td>\n",
       "      <td>Unidade</td>\n",
       "      <td>30000.0</td>\n",
       "      <td>0.0</td>\n",
       "      <td>0.0</td>\n",
       "      <td>0.0</td>\n",
       "      <td>N</td>\n",
       "      <td>...</td>\n",
       "      <td>Informática (TIC)</td>\n",
       "      <td>EBSERH - FILIAL HOSP UNIV ALCIDES CARNEIRO</td>\n",
       "      <td>CAMPINA GRANDE</td>\n",
       "      <td>2025-08-18T07:00:02</td>\n",
       "      <td>2025-08-18T08:00:00</td>\n",
       "      <td>2025-08-28T09:00:00</td>\n",
       "      <td>155914</td>\n",
       "      <td>90042</td>\n",
       "      <td>2025.0</td>\n",
       "      <td>15126437000305-1-002164/2025</td>\n",
       "    </tr>\n",
       "    <tr>\n",
       "      <th>4</th>\n",
       "      <td>Reagente para diagnóstico clínico</td>\n",
       "      <td>None</td>\n",
       "      <td>31</td>\n",
       "      <td>PB</td>\n",
       "      <td>Unidade</td>\n",
       "      <td>10000.0</td>\n",
       "      <td>0.0</td>\n",
       "      <td>0.0</td>\n",
       "      <td>0.0</td>\n",
       "      <td>N</td>\n",
       "      <td>...</td>\n",
       "      <td>Informática (TIC)</td>\n",
       "      <td>EBSERH - FILIAL HOSP UNIV ALCIDES CARNEIRO</td>\n",
       "      <td>CAMPINA GRANDE</td>\n",
       "      <td>2025-08-18T07:00:02</td>\n",
       "      <td>2025-08-18T08:00:00</td>\n",
       "      <td>2025-08-28T09:00:00</td>\n",
       "      <td>155914</td>\n",
       "      <td>90042</td>\n",
       "      <td>2025.0</td>\n",
       "      <td>15126437000305-1-002164/2025</td>\n",
       "    </tr>\n",
       "  </tbody>\n",
       "</table>\n",
       "<p>5 rows × 31 columns</p>\n",
       "</div>"
      ],
      "text/plain": [
       "                                   descricaoResumida  \\\n",
       "0  Prensa Hidráulica Repuxe abertura ferramenta: ...   \n",
       "1                                     Solução Padrão   \n",
       "2                                        Micropipeta   \n",
       "3                               Ponteira laboratório   \n",
       "4                  Reagente para diagnóstico clínico   \n",
       "\n",
       "                                  descricaodetalhada  numeroItemPncp  \\\n",
       "0  Prensa Hidráulica Repuxe abertura ferramenta: ...               1   \n",
       "1                                               None               7   \n",
       "2                                               None              15   \n",
       "3                                               None              23   \n",
       "4                                               None              31   \n",
       "\n",
       "  unidadeOrgaoUfSigla     unidadeMedida  quantidade  valorUnitarioEstimado  \\\n",
       "0                  BA           Unidade         1.0                30000.0   \n",
       "1                  PB  Frasco 300,00 ML       700.0                    0.0   \n",
       "2                  PB           Unidade         3.0                    0.0   \n",
       "3                  PB           Unidade     30000.0                    0.0   \n",
       "4                  PB           Unidade     10000.0                    0.0   \n",
       "\n",
       "   valorTotal  valorTotalEstimado orgaoEntidadeEsferaId  ...  \\\n",
       "0     30000.0             30000.0                     F  ...   \n",
       "1         0.0                 0.0                     N  ...   \n",
       "2         0.0                 0.0                     N  ...   \n",
       "3         0.0                 0.0                     N  ...   \n",
       "4         0.0                 0.0                     N  ...   \n",
       "\n",
       "   itemCategoriaNome                     unidadeOrgaoNomeUnidade  \\\n",
       "0  Informática (TIC)  UNIVERSIDADE FEDERAL DO RECÔNCAVO DA BAHIA   \n",
       "1  Informática (TIC)  EBSERH - FILIAL HOSP UNIV ALCIDES CARNEIRO   \n",
       "2  Informática (TIC)  EBSERH - FILIAL HOSP UNIV ALCIDES CARNEIRO   \n",
       "3  Informática (TIC)  EBSERH - FILIAL HOSP UNIV ALCIDES CARNEIRO   \n",
       "4  Informática (TIC)  EBSERH - FILIAL HOSP UNIV ALCIDES CARNEIRO   \n",
       "\n",
       "  unidadeOrgaoMunicipioNome   dataInclusaoPncp_y dataAberturaPropostaPncp  \\\n",
       "0            CRUZ DAS ALMAS  2025-08-18T03:49:21                     None   \n",
       "1            CAMPINA GRANDE  2025-08-18T07:00:02      2025-08-18T08:00:00   \n",
       "2            CAMPINA GRANDE  2025-08-18T07:00:02      2025-08-18T08:00:00   \n",
       "3            CAMPINA GRANDE  2025-08-18T07:00:02      2025-08-18T08:00:00   \n",
       "4            CAMPINA GRANDE  2025-08-18T07:00:02      2025-08-18T08:00:00   \n",
       "\n",
       "  dataEncerramentoPropostaPncp unidadeOrgaoCodigoUnidade numeroCompra  \\\n",
       "0                         None                    158092           53   \n",
       "1          2025-08-28T09:00:00                    155914        90042   \n",
       "2          2025-08-28T09:00:00                    155914        90042   \n",
       "3          2025-08-28T09:00:00                    155914        90042   \n",
       "4          2025-08-28T09:00:00                    155914        90042   \n",
       "\n",
       "  anoCompraPncp      numeroControlePNCPCompra  \n",
       "0        2025.0  07777800000162-1-000043/2025  \n",
       "1        2025.0  15126437000305-1-002164/2025  \n",
       "2        2025.0  15126437000305-1-002164/2025  \n",
       "3        2025.0  15126437000305-1-002164/2025  \n",
       "4        2025.0  15126437000305-1-002164/2025  \n",
       "\n",
       "[5 rows x 31 columns]"
      ]
     },
     "metadata": {},
     "output_type": "display_data"
    },
    {
     "name": "stdout",
     "output_type": "stream",
     "text": [
      "Forma final: 64928 linhas x 31 colunas\n"
     ]
    }
   ],
   "source": [
    "# -*- coding: utf-8 -*-\n",
    "import os\n",
    "import re\n",
    "import pandas as pd\n",
    "\n",
    "# ===========================\n",
    "# 0) Entrada e saída\n",
    "# ===========================\n",
    "CAMINHO_XLSX = r\"C:\\Users\\User\\Downloads\\Horom\\Empresas\\Horon Licitações\\2 - Dados\\4 - Dados Tratados\\Dados_Tratados.xlsx\"\n",
    "CAMINHO_CSV_PROBLEMAS = r\"C:\\Users\\User\\Downloads\\Horom\\Empresas\\Horon Licitações\\2 - Dados\\4 - Dados Tratados\\linhas_com_caracteres_invalidos.csv\"\n",
    "\n",
    "# Garante pasta\n",
    "os.makedirs(os.path.dirname(CAMINHO_XLSX), exist_ok=True)\n",
    "\n",
    "# ===========================\n",
    "# 1) Selecione colunas do seu df original\n",
    "#     (pressupõe df_mesclado já carregado no ambiente)\n",
    "# ===========================\n",
    "colunas = [\n",
    "    'descricaoResumida','descricaodetalhada','numeroItemPncp','unidadeOrgaoUfSigla',\n",
    "    'unidadeMedida','quantidade','valorUnitarioEstimado','valorTotal','valorTotalEstimado',\n",
    "    'orgaoEntidadeEsferaId','codItemCatalogo','modalidadeNome','situacaoCompraItemNome',\n",
    "    'situacaoCompraNomePncp','materialOuServico','unidadeOrgaoMunicipioNome','srp',\n",
    "    'modoDisputaNomePncp','objetoCompra','codigoNCM','orcamentoSigiloso','itemCategoriaNome',\n",
    "    'unidadeOrgaoNomeUnidade','unidadeOrgaoMunicipioNome','dataInclusaoPncp_y',\n",
    "    'dataAberturaPropostaPncp','dataEncerramentoPropostaPncp','unidadeOrgaoCodigoUnidade',\n",
    "    'numeroCompra','anoCompraPncp','numeroControlePNCPCompra'\n",
    "]\n",
    "df_copia = df_mesclado[colunas].copy()\n",
    "\n",
    "print(f\"Forma antes da limpeza: {df_copia.shape[0]} linhas x {df_copia.shape[1]} colunas\")\n",
    "\n",
    "# ===========================\n",
    "# 2) Diagnóstico de caracteres inválidos para Excel\n",
    "#    (qualquer ASCII de controle \\x00-\\x1F, exceto \\t \\n \\r)\n",
    "# ===========================\n",
    "ILLEGAL_RE = re.compile(r'[\\x00-\\x08\\x0B\\x0C\\x0E-\\x1F]')\n",
    "\n",
    "def tem_illegal(x):\n",
    "    return isinstance(x, str) and bool(ILLEGAL_RE.search(x))\n",
    "\n",
    "mask_illegal = df_copia.select_dtypes(include=[\"object\", \"string\"]).applymap(tem_illegal)\n",
    "linhas_ruins = df_copia[mask_illegal.any(axis=1)]\n",
    "\n",
    "if not linhas_ruins.empty:\n",
    "    # salva uma amostra dos problemas para auditoria\n",
    "    linhas_ruins.to_csv(CAMINHO_CSV_PROBLEMAS, index=False, encoding=\"utf-8-sig\")\n",
    "    print(f\"⚠️ Detectadas {linhas_ruins.shape[0]} linhas com caracteres inválidos.\")\n",
    "    print(f\"Relatório salvo em: {CAMINHO_CSV_PROBLEMAS}\")\n",
    "else:\n",
    "    print(\"✅ Nenhum caractere inválido detectado nas colunas de texto.\")\n",
    "\n",
    "# ===========================\n",
    "# 3) Limpeza para Excel (texto)\n",
    "#    - remove caracteres ilegais\n",
    "#    - normaliza quebras de linha\n",
    "#    - corta acima de 32.767 chars\n",
    "#    - previne injeção de fórmula (= + - @ no início)\n",
    "# ===========================\n",
    "def clean_excel(val):\n",
    "    if pd.isna(val):\n",
    "        return val\n",
    "    s = str(val)\n",
    "    s = ILLEGAL_RE.sub(\" \", s)          # remove controles ASCII\n",
    "    s = re.sub(r'[\\r\\n]+', ' ', s)      # compacta quebras de linha\n",
    "    if len(s) > 32767:                  # limite do Excel por célula\n",
    "        s = s[:32767]\n",
    "    if s[:1] in ('=', '+', '-', '@'):   # evita fórmula\n",
    "        s = \"'\" + s\n",
    "    return s\n",
    "\n",
    "for col in df_copia.select_dtypes(include=[\"object\", \"string\"]).columns:\n",
    "    df_copia[col] = df_copia[col].map(clean_excel)\n",
    "\n",
    "# (Opcional) garantir tipos numéricos em algumas colunas, se desejar:\n",
    "# for c in ['quantidade','valorUnitarioEstimado','valorTotal','valorTotalEstimado','anoCompraPncp']:\n",
    "#     if c in df_copia.columns:\n",
    "#         df_copia[c] = pd.to_numeric(df_copia[c], errors='coerce')\n",
    "\n",
    "print(\"🧼 Limpeza concluída.\")\n",
    "\n",
    "# ===========================\n",
    "# 4) Exportação com fallback\n",
    "# ===========================\n",
    "try:\n",
    "    # preferencial: openpyxl\n",
    "    df_copia.to_excel(CAMINHO_XLSX, index=False, engine=\"openpyxl\")\n",
    "    print(f\"📊 Excel exportado com sucesso:\\n{CAMINHO_XLSX}\")\n",
    "except Exception as e:\n",
    "    print(\"❌ Falha no XLSX (openpyxl). Motivo:\", repr(e))\n",
    "    # fallback simples em CSV (abre no Excel normalmente)\n",
    "    caminho_csv = os.path.splitext(CAMINHO_XLSX)[0] + \".csv\"\n",
    "    df_copia.to_csv(caminho_csv, index=False, encoding=\"utf-8-sig\")\n",
    "    print(f\"➡️ Salvo como CSV (fallback):\\n{caminho_csv}\")\n",
    "\n",
    "# ===========================\n",
    "# 5) Verificação final\n",
    "# ===========================\n",
    "print(\"Preview pós-limpeza (primeiras 5 linhas):\")\n",
    "display(df_copia.head(5))\n",
    "print(f\"Forma final: {df_copia.shape[0]} linhas x {df_copia.shape[1]} colunas\")\n",
    "\n"
   ]
  }
 ],
 "metadata": {
  "kernelspec": {
   "display_name": "Python 3",
   "language": "python",
   "name": "python3"
  },
  "language_info": {
   "codemirror_mode": {
    "name": "ipython",
    "version": 3
   },
   "file_extension": ".py",
   "mimetype": "text/x-python",
   "name": "python",
   "nbconvert_exporter": "python",
   "pygments_lexer": "ipython3",
   "version": "3.13.1"
  }
 },
 "nbformat": 4,
 "nbformat_minor": 5
}
