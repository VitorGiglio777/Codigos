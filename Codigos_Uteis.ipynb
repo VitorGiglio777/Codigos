{
 "cells": [
  {
   "cell_type": "code",
   "execution_count": null,
   "id": "6e2e1564",
   "metadata": {},
   "outputs": [],
   "source": [
    "#CÓDIGOS UTEIS \n",
    "\n",
    "\n",
    "# XLSX + PREVIEW DO DATAFRAME\n",
    "if todos:\n",
    "    df = pd.DataFrame(todos)\n",
    "\n",
    "    # Preserva possíveis IDs longos como texto\n",
    "    possiveis_ids = [\n",
    "        \"cnpjFornecedor\", \"orgaoEntidadeCnpj\", \"codigoPNCP\", \"uasg\",\n",
    "        \"numeroProcesso\", \"numeroAviso\", \"idCompra\", \"idItemCompra\"\n",
    "    ]\n",
    "    for col in possiveis_ids:\n",
    "        if col in df.columns:\n",
    "            df[col] = df[col].astype(str)\n",
    "\n",
    "    # Limpeza de caracteres ilegais do Excel (apenas em colunas de texto)\n",
    "    illegal = re.compile(r\"[\\x00-\\x08\\x0B\\x0C\\x0E-\\x1F]\")\n",
    "    str_cols = df.select_dtypes(include=[\"object\"]).columns\n",
    "    for c in str_cols:\n",
    "        try:\n",
    "            df[c] = df[c].astype(\"string\").str.replace(illegal, \"\", regex=True)\n",
    "        except Exception:\n",
    "            pass\n",
    "\n",
    "    # ===== PREVIEW DO DF ANTES DE EXPORTAR =====\n",
    "    print(f\"👀 Pré-visualização — linhas: {len(df)} | colunas: {df.shape[1]}\")\n",
    "    print(\"\\nTipos de dados por coluna:\")\n",
    "    print(df.dtypes.sort_index())\n",
    "    print(\"\\nPrimeiras linhas:\")\n",
    "    display(df.head(PREVIEW_ROWS))   # mostre mais/menos linhas ajustando PREVIEW_ROWS"
   ]
  },
  {
   "cell_type": "code",
   "execution_count": null,
   "id": "b7f2864e",
   "metadata": {},
   "outputs": [],
   "source": []
  },
  {
   "cell_type": "code",
   "execution_count": null,
   "id": "e43d8c0a",
   "metadata": {},
   "outputs": [],
   "source": []
  }
 ],
 "metadata": {
  "kernelspec": {
   "display_name": "Python 3",
   "language": "python",
   "name": "python3"
  },
  "language_info": {
   "codemirror_mode": {
    "name": "ipython",
    "version": 3
   },
   "file_extension": ".py",
   "mimetype": "text/x-python",
   "name": "python",
   "nbconvert_exporter": "python",
   "pygments_lexer": "ipython3",
   "version": "3.13.1"
  }
 },
 "nbformat": 4,
 "nbformat_minor": 5
}
