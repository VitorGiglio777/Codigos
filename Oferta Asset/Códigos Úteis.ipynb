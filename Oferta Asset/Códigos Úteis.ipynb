{
 "cells": [
  {
   "cell_type": "code",
   "execution_count": null,
   "id": "0d979f5b",
   "metadata": {},
   "outputs": [],
   "source": [
    "# Código Para Exportar DATA FRAME EM EXCEL (PASTA DE TESTES)\n",
    "\n",
    "\n",
    "# Criando o caminho para a pasta de exportação\n",
    "pasta_exportacao = 'C:\\\\SP\\\\REAG DISTRIBUIDORA DE TITULOS E VALORES MOBILIARIOS S.A\\\\OPERAÇÕES - Documentos\\\\Ofertas e Cadastros\\\\8 - Bases Python\\\\5 - Testes Excel'\n",
    "os.makedirs(pasta_exportacao, exist_ok=True)\n",
    "\n",
    "# Caminho completo do novo arquivo Excel\n",
    "caminho_exportado = os.path.join(pasta_exportacao, 'data_frame1_exportado.xlsx')\n",
    "\n",
    "# Exportando o DataFrame para o novo arquivo Excel\n",
    "data_frame1.to_excel(caminho_exportado, index=False)\n",
    "\n",
    "print(f\"\\n✅ Arquivo exportado com sucesso para: {caminho_exportado}\")"
   ]
  },
  {
   "cell_type": "code",
   "execution_count": null,
   "id": "4dbc3357",
   "metadata": {},
   "outputs": [],
   "source": [
    "print(df_ofertas_cvm.columns)\n"
   ]
  },
  {
   "cell_type": "code",
   "execution_count": null,
   "id": "5f3786bf",
   "metadata": {},
   "outputs": [],
   "source": []
  }
 ],
 "metadata": {
  "kernelspec": {
   "display_name": "Python 3",
   "language": "python",
   "name": "python3"
  },
  "language_info": {
   "codemirror_mode": {
    "name": "ipython",
    "version": 3
   },
   "file_extension": ".py",
   "mimetype": "text/x-python",
   "name": "python",
   "nbconvert_exporter": "python",
   "pygments_lexer": "ipython3",
   "version": "3.11.9"
  }
 },
 "nbformat": 4,
 "nbformat_minor": 5
}
