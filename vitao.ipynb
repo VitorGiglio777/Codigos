{
 "cells": [
  {
   "cell_type": "code",
   "execution_count": null,
   "id": "3e39729d",
   "metadata": {},
   "outputs": [],
   "source": [
    "print(\"vitorgiglio\")"
   ]
  }
 ],
 "metadata": {
  "language_info": {
   "name": "python"
  }
 },
 "nbformat": 4,
 "nbformat_minor": 5
}
